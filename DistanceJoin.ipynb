{
  "nbformat": 4,
  "nbformat_minor": 0,
  "metadata": {
    "colab": {
      "name": "DistanceJoin.ipynb",
      "provenance": [],
      "collapsed_sections": [],
      "authorship_tag": "ABX9TyMG0lYimPpUELSH1ZNtp+fW",
      "include_colab_link": true
    },
    "kernelspec": {
      "name": "python3",
      "display_name": "Python 3"
    },
    "language_info": {
      "name": "python"
    }
  },
  "cells": [
    {
      "cell_type": "markdown",
      "metadata": {
        "id": "view-in-github",
        "colab_type": "text"
      },
      "source": [
        "<a href=\"https://colab.research.google.com/github/spros1/DistanceJoin/blob/main/DistanceJoin.ipynb\" target=\"_parent\"><img src=\"https://colab.research.google.com/assets/colab-badge.svg\" alt=\"Open In Colab\"/></a>"
      ]
    },
    {
      "cell_type": "markdown",
      "source": [
        "For two sets given A and B ( with values (ID,X,Y) ) : <br>\n",
        "Find the pairs (a,b), where a in Α and b in Β, \n",
        "to wich it applies : d(a,b) ≤ c, where c parameter given from the user "
      ],
      "metadata": {
        "id": "cEXxpskFv5gj"
      }
    },
    {
      "cell_type": "code",
      "execution_count": 8,
      "metadata": {
        "id": "xBle1FUSkXMP"
      },
      "outputs": [],
      "source": [
        "# importing the required module\n",
        "import matplotlib.pyplot as plt\n",
        "import numpy as np"
      ]
    },
    {
      "cell_type": "markdown",
      "source": [
        "###Create two lists of points for initial tests\n",
        "### At next phases this will change to csvs"
      ],
      "metadata": {
        "id": "Grz8kKWyroOA"
      }
    },
    {
      "cell_type": "code",
      "source": [
        "marks = [['I',6,3],['I',2,2],['I',1,2],['I',7,2], ['I',4,5]]\n",
        "train = [['T', 5, 5], ['T',3,7]]\n",
        "\n",
        "print(marks)\n",
        "print(train)"
      ],
      "metadata": {
        "colab": {
          "base_uri": "https://localhost:8080/"
        },
        "id": "_eHHJq9Vl1SL",
        "outputId": "4652dc95-e2fc-43c8-e0af-87aad8089404"
      },
      "execution_count": 72,
      "outputs": [
        {
          "output_type": "stream",
          "name": "stdout",
          "text": [
            "[['I', 6, 3], ['I', 2, 2], ['I', 1, 2], ['I', 7, 2], ['I', 4, 5]]\n",
            "[['T', 5, 5], ['T', 3, 7]]\n"
          ]
        }
      ]
    },
    {
      "cell_type": "markdown",
      "source": [
        "### Plot the points ( marks -> o , train -> x )"
      ],
      "metadata": {
        "id": "7Hve7t1Qrxc4"
      }
    },
    {
      "cell_type": "code",
      "source": [
        "# first find the max values from each list in order to find the quadrants\n",
        "max_inp = max(marks)\n",
        "max_trn = max(train)\n",
        "print(max_inp)\n",
        "print(max_trn)\n",
        "\n",
        "min_quadran = (max(max_inp[1],max_trn[1]))\n",
        "max_quadran = (max(max_inp[2],max_trn[2]))\n",
        "print(min_quadran)\n",
        "print(max_quadran)"
      ],
      "metadata": {
        "colab": {
          "base_uri": "https://localhost:8080/"
        },
        "id": "fgIqX6bSSOa1",
        "outputId": "39c6aee7-5cce-4cf3-8340-d1f780e9a00d"
      },
      "execution_count": 84,
      "outputs": [
        {
          "output_type": "stream",
          "name": "stdout",
          "text": [
            "['I', 7, 2]\n",
            "['T', 5, 5]\n",
            "7\n",
            "5\n"
          ]
        }
      ]
    },
    {
      "cell_type": "code",
      "source": [
        "for a in range(len(marks)):\n",
        "  mx = marks[a][1]\n",
        "  my = marks[a][2]\n",
        "  plt.scatter(mx, my, marker='x', color = 'brown')\n",
        "\n",
        "for b in range(len(train)):\n",
        "  tx = train[b][1]\n",
        "  ty = train[b][2]\n",
        "  plt.scatter(tx, ty, marker='p', color = 'blue')\n",
        "\n",
        "# Draw lines to split quadrants\n",
        "plt.plot([min_quadran/2,min_quadran/2],[0,max_quadran], linewidth=1, color='black' )\n",
        "plt.plot([0,min_quadran],[max_quadran/2,max_quadran/2], linewidth=1, color='black' )\n",
        "\n",
        "plt.show()"
      ],
      "metadata": {
        "id": "08TyXRTw8fZM",
        "outputId": "63780f70-af2c-4c7f-bec4-5ec6c11e393a",
        "colab": {
          "base_uri": "https://localhost:8080/",
          "height": 265
        }
      },
      "execution_count": 85,
      "outputs": [
        {
          "output_type": "display_data",
          "data": {
            "text/plain": [
              "<Figure size 432x288 with 1 Axes>"
            ],
            "image/png": "[encoded data removed]"
          },
          "metadata": {
            "needs_background": "light"
          }
        }
      ]
    },
    {
      "cell_type": "markdown",
      "source": [
        "Get the value for range from user and "
      ],
      "metadata": {
        "id": "LR-xUX4rl910"
      }
    },
    {
      "cell_type": "code",
      "source": [
        "range_val = 0\n",
        "try:\n",
        "  range_val = int(input(\"Enter your value for range : \"))\n",
        "except ValueError:\n",
        "    print(\"This is not a number\")    "
      ],
      "metadata": {
        "colab": {
          "base_uri": "https://localhost:8080/"
        },
        "id": "CilfUq7_ltfq",
        "outputId": "63939135-75cd-4676-fb85-9a3120722bdb"
      },
      "execution_count": 11,
      "outputs": [
        {
          "name": "stdout",
          "output_type": "stream",
          "text": [
            "Enter your value for range : 1\n"
          ]
        }
      ]
    },
    {
      "cell_type": "markdown",
      "source": [
        "#### Create a function that calculates the distance between two points"
      ],
      "metadata": {
        "id": "qsBYt5yO0wpC"
      }
    },
    {
      "cell_type": "code",
      "source": [
        "# Function to calculate distance between points using Pythagoras' theorem\n",
        "import math\n",
        "def distance(i1 , t1 , i2 , t2):\n",
        " \n",
        "    return math.sqrt(math.pow(i2 - i1, 2) + math.pow(t2 - t1, 2) * 1.0)"
      ],
      "metadata": {
        "id": "H-3q6_cq7QJd"
      },
      "execution_count": 12,
      "outputs": []
    },
    {
      "cell_type": "code",
      "source": [
        "# function to call in order to calculate the points of train that are in range of points of input\n",
        "\n",
        "def check_in_range(i, t, r):\n",
        "\n",
        "  for a in range(len(i)):\n",
        "   for b in range(len(t)):\n",
        "    print(i[a])\n",
        "    print(t[b])\n",
        "    dist = distance(i[a][2] , i[a][1], t[b][2] , t[b][1])\n",
        "\n",
        "    if dist <= range_val :\n",
        "     print(\"Points in range :\", dist, \"<=\", r)\n",
        "    else : \n",
        "     print(\"Points out of range :\", dist, \">\", r)\n",
        "    \n",
        "    print(\"----------------------\")"
      ],
      "metadata": {
        "id": "IPy2LNOO7VXn"
      },
      "execution_count": 13,
      "outputs": []
    },
    {
      "cell_type": "markdown",
      "source": [
        "### Now call the functions in order to get the requested results"
      ],
      "metadata": {
        "id": "3GrbqXHI6w2h"
      }
    },
    {
      "cell_type": "code",
      "source": [
        "check_in_range(marks, train, range_val)"
      ],
      "metadata": {
        "id": "lL-VlBsG65Uk",
        "outputId": "8581a162-270a-469c-d783-34dcb0ded7aa",
        "colab": {
          "base_uri": "https://localhost:8080/"
        }
      },
      "execution_count": 14,
      "outputs": [
        {
          "output_type": "stream",
          "name": "stdout",
          "text": [
            "['I', 6, 3]\n",
            "['T', 5, 5]\n",
            "Points out of range : 2.23606797749979 > 1\n",
            "----------------------\n",
            "['I', 6, 3]\n",
            "['T', 9, 7]\n",
            "Points out of range : 5.0 > 1\n",
            "----------------------\n",
            "['I', 2, 2]\n",
            "['T', 5, 5]\n",
            "Points out of range : 4.242640687119285 > 1\n",
            "----------------------\n",
            "['I', 2, 2]\n",
            "['T', 9, 7]\n",
            "Points out of range : 8.602325267042627 > 1\n",
            "----------------------\n",
            "['I', 1, 2]\n",
            "['T', 5, 5]\n",
            "Points out of range : 5.0 > 1\n",
            "----------------------\n",
            "['I', 1, 2]\n",
            "['T', 9, 7]\n",
            "Points out of range : 9.433981132056603 > 1\n",
            "----------------------\n",
            "['I', 7, 9]\n",
            "['T', 5, 5]\n",
            "Points out of range : 4.47213595499958 > 1\n",
            "----------------------\n",
            "['I', 7, 9]\n",
            "['T', 9, 7]\n",
            "Points out of range : 2.8284271247461903 > 1\n",
            "----------------------\n",
            "['I', 4, 5]\n",
            "['T', 5, 5]\n",
            "Points in range : 1.0 <= 1\n",
            "----------------------\n",
            "['I', 4, 5]\n",
            "['T', 9, 7]\n",
            "Points out of range : 5.385164807134504 > 1\n",
            "----------------------\n"
          ]
        }
      ]
    }
  ]
}