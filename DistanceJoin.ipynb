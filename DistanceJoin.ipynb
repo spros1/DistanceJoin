{
  "nbformat": 4,
  "nbformat_minor": 0,
  "metadata": {
    "colab": {
      "name": "DistanceJoin.ipynb",
      "provenance": [],
      "collapsed_sections": [],
      "authorship_tag": "ABX9TyOyvLy4X8k+xrVsQ106Y4jF",
      "include_colab_link": true
    },
    "kernelspec": {
      "name": "python3",
      "display_name": "Python 3"
    },
    "language_info": {
      "name": "python"
    }
  },
  "cells": [
    {
      "cell_type": "markdown",
      "metadata": {
        "id": "view-in-github",
        "colab_type": "text"
      },
      "source": [
        "<a href=\"https://colab.research.google.com/github/spros1/DistanceJoin/blob/main/DistanceJoin.ipynb\" target=\"_parent\"><img src=\"https://colab.research.google.com/assets/colab-badge.svg\" alt=\"Open In Colab\"/></a>"
      ]
    },
    {
      "cell_type": "markdown",
      "source": [
        "###First we need to install everything needed in order to run Python & Apache Spark in Colab\n"
      ],
      "metadata": {
        "id": "IxOtCtC2AF7m"
      }
    },
    {
      "cell_type": "code",
      "source": [
        "# install Java8\n",
        "!apt-get install openjdk-8-jdk-headless -qq > /dev/null"
      ],
      "metadata": {
        "id": "VzUF5N4eAFBW"
      },
      "execution_count": 27,
      "outputs": []
    },
    {
      "cell_type": "code",
      "source": [
        "# download spark3.2.1\n",
        "!wget -q https://ftp.cc.uoc.gr/mirrors/apache/spark/spark-3.2.1/spark-3.2.1-bin-hadoop2.7.tgz "
      ],
      "metadata": {
        "id": "svHzX8UeAVum"
      },
      "execution_count": 13,
      "outputs": []
    },
    {
      "cell_type": "code",
      "source": [
        "# unzip it\n",
        "!tar xvf spark-3.2.1-bin-hadoop2.7.tgz"
      ],
      "metadata": {
        "id": "R0abKQaoAV8l"
      },
      "execution_count": null,
      "outputs": []
    },
    {
      "cell_type": "code",
      "source": [
        "# install findspark \n",
        "!pip install -q findspark"
      ],
      "metadata": {
        "id": "jw2mHjOKAWFp"
      },
      "execution_count": 15,
      "outputs": []
    },
    {
      "cell_type": "code",
      "source": [
        "import os\n",
        "os.environ[\"JAVA_HOME\"] = \"/usr/lib/jvm/java-8-openjdk-amd64\"\n",
        "os.environ[\"SPARK_HOME\"] = \"/content/spark-3.2.1-bin-hadoop2.7\""
      ],
      "metadata": {
        "id": "1S3dyF7BAWMy"
      },
      "execution_count": 16,
      "outputs": []
    },
    {
      "cell_type": "markdown",
      "source": [
        "#### A test in order to check that all are ok"
      ],
      "metadata": {
        "id": "VzSgZmRqAhlq"
      }
    },
    {
      "cell_type": "code",
      "source": [
        "import findspark\n",
        "findspark.init()                                               # make pyspark importable as a regular library\n",
        "from pyspark.sql import SparkSession                           # create Spark session\n",
        "spark = SparkSession.builder.master(\"local[*]\").getOrCreate()\n",
        "\n",
        "# Test spark\n",
        "df = spark.createDataFrame([{\"hello\": \"world\"} for x in range(1000)])\n",
        "df.show(5)"
      ],
      "metadata": {
        "colab": {
          "base_uri": "https://localhost:8080/"
        },
        "id": "vj4UQd2vAWTn",
        "outputId": "fa6e62de-c08e-4b3c-e242-16e228ca4e67"
      },
      "execution_count": 271,
      "outputs": [
        {
          "output_type": "stream",
          "name": "stdout",
          "text": [
            "+-----+\n",
            "|hello|\n",
            "+-----+\n",
            "|world|\n",
            "|world|\n",
            "|world|\n",
            "|world|\n",
            "|world|\n",
            "+-----+\n",
            "only showing top 5 rows\n",
            "\n"
          ]
        }
      ]
    },
    {
      "cell_type": "code",
      "source": [
        "# the previous were just to test that spark was ok set up , we will start it again\n",
        "spark.stop()"
      ],
      "metadata": {
        "id": "hwHQ52KSK01t"
      },
      "execution_count": 273,
      "outputs": []
    },
    {
      "cell_type": "markdown",
      "source": [
        "# Now lets start :\n",
        "For two sets given A and B ( with values (ID,X,Y) ) : <br>\n",
        "Find the pairs (a,b), where a in Α and b in Β, \n",
        "to wich it applies : d(a,b) ≤ c, where c parameter given from the user "
      ],
      "metadata": {
        "id": "cEXxpskFv5gj"
      }
    },
    {
      "cell_type": "markdown",
      "source": [
        "### First we are going to make a routine in order to produce two csv files with the number of records that the user will give\n"
      ],
      "metadata": {
        "id": "_Kjaub_FB_3s"
      }
    },
    {
      "cell_type": "code",
      "source": [
        "# imports that are going to be used for the population for our two datasets \n",
        "import random\n",
        "import time\n",
        "from random import sample\n",
        "import csv"
      ],
      "metadata": {
        "id": "gEW8kdy04GRy"
      },
      "execution_count": 446,
      "outputs": []
    },
    {
      "cell_type": "code",
      "source": [
        "def get_generated_points( gen_num, csv_name):\n",
        "  \n",
        "  x = random.sample(range(1, gen_num+1), gen_num)\n",
        "  y = random.sample(range(1, gen_num+1), gen_num)\n",
        "\n",
        "  fin_data = list(zip(x,y))\n",
        " \n",
        "# generate csv\n",
        "  with open(csv_name, \"a\") as f:\n",
        "    f.truncate(0)\n",
        "    coords = [map(str, tupl) for tupl in fin_data]\n",
        "    writer = csv.writer(f, delimiter=',')\n",
        "\n",
        "    for line in coords:\n",
        "      writer.writerow(line)\n",
        "\n",
        "# plot it also that \n",
        "  plt.scatter(x, y)\n",
        "  plt.show()\n",
        "\n",
        "  return fin_data"
      ],
      "metadata": {
        "id": "LrtRZbitBu_7"
      },
      "execution_count": 422,
      "outputs": []
    },
    {
      "cell_type": "markdown",
      "source": [
        "#### Now the user must give the max number of points for the two datasets"
      ],
      "metadata": {
        "id": "VfK76d7MKVLH"
      }
    },
    {
      "cell_type": "code",
      "source": [
        "inpCSV_total_points = 0\n",
        "try:\n",
        "  inpCSV_total_points = int(input(\"Enter the max value for csv with inp points : \"))\n",
        "except ValueError:\n",
        "    print(\"This is not a number\")   "
      ],
      "metadata": {
        "colab": {
          "base_uri": "https://localhost:8080/"
        },
        "id": "L-yVh9RYKJqU",
        "outputId": "1d0cf195-46b6-4385-be06-146af3815505"
      },
      "execution_count": 486,
      "outputs": [
        {
          "name": "stdout",
          "output_type": "stream",
          "text": [
            "Enter the max value for csv with inp points : 10\n"
          ]
        }
      ]
    },
    {
      "cell_type": "code",
      "source": [
        "trainCSV_total_points = 0\n",
        "try:\n",
        "  trainCSV_total_points = int(input(\"Enter the max value for csv with train points : \"))\n",
        "except ValueError:\n",
        "    print(\"This is not a number\")   "
      ],
      "metadata": {
        "colab": {
          "base_uri": "https://localhost:8080/"
        },
        "id": "0XcWZSqmKeKL",
        "outputId": "4574f84b-9c5d-487b-f20f-970e2172fbae"
      },
      "execution_count": 487,
      "outputs": [
        {
          "name": "stdout",
          "output_type": "stream",
          "text": [
            "Enter the max value for csv with train points : 10\n"
          ]
        }
      ]
    },
    {
      "cell_type": "code",
      "source": [
        "# create the input dataset\n",
        "inpPoints = get_generated_points(inpCSV_total_points , 'InputCSV.csv')\n",
        "print(inpPoints)\n",
        "\n",
        "print('\\n')\n",
        "\n",
        "trainPoints = get_generated_points(trainCSV_total_points , 'TrainCSV.csv')\n",
        "print(trainPoints)"
      ],
      "metadata": {
        "colab": {
          "base_uri": "https://localhost:8080/",
          "height": 582
        },
        "id": "3hgD3j0TBqNz",
        "outputId": "0aa79cc9-a16d-4754-f8db-1863f44a530e"
      },
      "execution_count": 488,
      "outputs": [
        {
          "output_type": "display_data",
          "data": {
            "text/plain": [
              "<Figure size 432x288 with 1 Axes>"
            ],
            "image/png": "[encoded data removed]"
          },
          "metadata": {
            "needs_background": "light"
          }
        },
        {
          "output_type": "stream",
          "name": "stdout",
          "text": [
            "[(1, 1), (2, 9), (8, 6), (6, 5), (5, 8), (4, 3), (10, 10), (9, 2), (7, 4), (3, 7)]\n",
            "\n",
            "\n"
          ]
        },
        {
          "output_type": "display_data",
          "data": {
            "text/plain": [
              "<Figure size 432x288 with 1 Axes>"
            ],
            "image/png": "[encoded data removed]"
          },
          "metadata": {
            "needs_background": "light"
          }
        },
        {
          "output_type": "stream",
          "name": "stdout",
          "text": [
            "[(5, 8), (1, 10), (10, 3), (8, 6), (7, 5), (3, 7), (4, 2), (6, 9), (2, 4), (9, 1)]\n"
          ]
        }
      ]
    },
    {
      "cell_type": "markdown",
      "source": [
        "### Read from the two csvs the data\n",
        "(from the two we create or other , it is the same just change the name of input file)\n"
      ],
      "metadata": {
        "id": "Grz8kKWyroOA"
      }
    },
    {
      "cell_type": "code",
      "execution_count": 489,
      "metadata": {
        "id": "xBle1FUSkXMP"
      },
      "outputs": [],
      "source": [
        "# importing the required module\n",
        "from pyspark.sql import SparkSession\n",
        "from pyspark.sql import functions as f\n",
        "from pyspark.sql.functions import lit,col,concat\n",
        "import os\n",
        "\n",
        "import matplotlib.pyplot as plt\n",
        "import numpy as np"
      ]
    },
    {
      "cell_type": "code",
      "source": [
        "# give the path of input and train file to read \n",
        "inpFile   = \"InputCSV.csv\" \n",
        "trainFile = \"TrainCSV.csv\""
      ],
      "metadata": {
        "id": "KkYTgCC8QJmy"
      },
      "execution_count": 490,
      "outputs": []
    },
    {
      "cell_type": "code",
      "source": [
        "# Initialize Spark session\n",
        "t0 = int(round(time.time() * 1000))"
      ],
      "metadata": {
        "id": "HwvyuECSzli_"
      },
      "execution_count": 491,
      "outputs": []
    },
    {
      "cell_type": "code",
      "source": [
        "spark = SparkSession.builder.appName(\"CSV\").master(\"local\").getOrCreate()             # Creates a session on a local master\n"
      ],
      "metadata": {
        "id": "_eHHJq9Vl1SL"
      },
      "execution_count": 492,
      "outputs": []
    },
    {
      "cell_type": "code",
      "source": [
        "t1 = int(round(time.time() * 1000))\n",
        "\n",
        "print(\"Session initialized in {} ms\".format(t1 - t0))"
      ],
      "metadata": {
        "colab": {
          "base_uri": "https://localhost:8080/"
        },
        "id": "SmIge-J3zzZL",
        "outputId": "4f1f9668-141f-4dcf-cf3a-7464d53ab2dd"
      },
      "execution_count": 493,
      "outputs": [
        {
          "output_type": "stream",
          "name": "stdout",
          "text": [
            "Session initialized in 1989 ms\n"
          ]
        }
      ]
    },
    {
      "cell_type": "code",
      "source": [
        "df_inp   = spark.read.csv(inferSchema=True, path=inpFile).toDF(\"inpX\"  ,\"inpY\"  )     # Reads input CSV file with no header, in a dataframe\n",
        "df_train = spark.read.csv(inferSchema=True, path=trainFile).toDF(\"trainX\",\"trainY\")   # Reads train CSV file with no header, in a dataframe"
      ],
      "metadata": {
        "id": "4ovFQfXdzzdL"
      },
      "execution_count": 494,
      "outputs": []
    },
    {
      "cell_type": "code",
      "source": [
        "t2 = int(round(time.time() * 1000))\n",
        "print(\"Initial dataframe built in {} ms\".format(t2 - t1))"
      ],
      "metadata": {
        "colab": {
          "base_uri": "https://localhost:8080/"
        },
        "id": "sWp0CCC-0FqN",
        "outputId": "134243bf-c6ac-4a70-baaf-442d3190aaa6"
      },
      "execution_count": 495,
      "outputs": [
        {
          "output_type": "stream",
          "name": "stdout",
          "text": [
            "Initial dataframe built in 2201 ms\n"
          ]
        }
      ]
    },
    {
      "cell_type": "code",
      "source": [
        "print(\"*** Right after ingestion ***\")\n",
        "\n",
        "df_inp.show(5)\n",
        "print(\"We have {} input records.\".format(df_inp.count()))\n",
        "\n",
        "print('\\n')\n",
        "\n",
        "df_train.show(5)\n",
        "print(\"We have {} train records.\".format(df_train.count()))"
      ],
      "metadata": {
        "colab": {
          "base_uri": "https://localhost:8080/"
        },
        "id": "wOtFXlFJM75F",
        "outputId": "011623ec-6429-4633-8879-9649481f2399"
      },
      "execution_count": 496,
      "outputs": [
        {
          "output_type": "stream",
          "name": "stdout",
          "text": [
            "*** Right after ingestion ***\n",
            "+----+----+\n",
            "|inpX|inpY|\n",
            "+----+----+\n",
            "|   1|   1|\n",
            "|   2|   9|\n",
            "|   8|   6|\n",
            "|   6|   5|\n",
            "|   5|   8|\n",
            "+----+----+\n",
            "only showing top 5 rows\n",
            "\n",
            "We have 10 input records.\n",
            "\n",
            "\n",
            "+------+------+\n",
            "|trainX|trainY|\n",
            "+------+------+\n",
            "|     5|     8|\n",
            "|     1|    10|\n",
            "|    10|     3|\n",
            "|     8|     6|\n",
            "|     7|     5|\n",
            "+------+------+\n",
            "only showing top 5 rows\n",
            "\n",
            "We have 10 train records.\n"
          ]
        }
      ]
    },
    {
      "cell_type": "code",
      "source": [
        "# Print the schema to standard output (stdout) by using printSchema().\n",
        "df_inp.printSchema()\n",
        "df_train.printSchema()"
      ],
      "metadata": {
        "colab": {
          "base_uri": "https://localhost:8080/"
        },
        "id": "gqoXl9_nM_Gt",
        "outputId": "464697c8-cd83-4ecc-e9bc-a69c3731b9ba"
      },
      "execution_count": 497,
      "outputs": [
        {
          "output_type": "stream",
          "name": "stdout",
          "text": [
            "root\n",
            " |-- inpX: integer (nullable = true)\n",
            " |-- inpY: integer (nullable = true)\n",
            "\n",
            "root\n",
            " |-- trainX: integer (nullable = true)\n",
            " |-- trainY: integer (nullable = true)\n",
            "\n"
          ]
        }
      ]
    },
    {
      "cell_type": "markdown",
      "source": [
        "### Plot the points ( inp -> o , train -> x )"
      ],
      "metadata": {
        "id": "7Hve7t1Qrxc4"
      }
    },
    {
      "cell_type": "code",
      "source": [
        "# Add a new column: COORD which consists of: (X,Y)\n",
        "df_inp = df_inp.withColumn(\"COORD_inp\", concat(lit(\"(\"), col(\"inpX\"), lit(\",\"), col(\"inpY\"), lit(\")\")))\n",
        "\n",
        "print(\"*** Input Dataframe Transformed\")\n",
        "df_inp.show(5)"
      ],
      "metadata": {
        "colab": {
          "base_uri": "https://localhost:8080/"
        },
        "id": "oqLhOtryRdCw",
        "outputId": "5b14e852-1e0a-4bb8-9f7f-12cbf33b5b17"
      },
      "execution_count": 498,
      "outputs": [
        {
          "output_type": "stream",
          "name": "stdout",
          "text": [
            "*** Input Dataframe Transformed\n",
            "+----+----+---------+\n",
            "|inpX|inpY|COORD_inp|\n",
            "+----+----+---------+\n",
            "|   1|   1|    (1,1)|\n",
            "|   2|   9|    (2,9)|\n",
            "|   8|   6|    (8,6)|\n",
            "|   6|   5|    (6,5)|\n",
            "|   5|   8|    (5,8)|\n",
            "+----+----+---------+\n",
            "only showing top 5 rows\n",
            "\n"
          ]
        }
      ]
    },
    {
      "cell_type": "code",
      "source": [
        "# Add a new column: COORD which consists of: (X,Y)\n",
        "df_train = df_train.withColumn(\"COORD_train\", concat(lit(\"(\"), col(\"trainX\"), lit(\",\"), col(\"trainY\"), lit(\")\")))\n",
        "\n",
        "print(\"*** Train Dataframe Transformed\")\n",
        "df_train.show(5)"
      ],
      "metadata": {
        "colab": {
          "base_uri": "https://localhost:8080/"
        },
        "id": "1cFJAn7iR1db",
        "outputId": "9ce2329d-93dc-457c-aae4-8258449bf9a4"
      },
      "execution_count": 499,
      "outputs": [
        {
          "output_type": "stream",
          "name": "stdout",
          "text": [
            "*** Train Dataframe Transformed\n",
            "+------+------+-----------+\n",
            "|trainX|trainY|COORD_train|\n",
            "+------+------+-----------+\n",
            "|     5|     8|      (5,8)|\n",
            "|     1|    10|     (1,10)|\n",
            "|    10|     3|     (10,3)|\n",
            "|     8|     6|      (8,6)|\n",
            "|     7|     5|      (7,5)|\n",
            "+------+------+-----------+\n",
            "only showing top 5 rows\n",
            "\n"
          ]
        }
      ]
    },
    {
      "cell_type": "code",
      "source": [
        "print(\"*** Input and train Dataframes Transformed :\")\n",
        "df_inp.show(5)\n",
        "df_train.show(5)"
      ],
      "metadata": {
        "colab": {
          "base_uri": "https://localhost:8080/"
        },
        "id": "hnMjamR-SLOE",
        "outputId": "7ccf85b8-139e-4f44-c28b-bff4ddc1a271"
      },
      "execution_count": 500,
      "outputs": [
        {
          "output_type": "stream",
          "name": "stdout",
          "text": [
            "*** Input and train Dataframes Transformed :\n",
            "+----+----+---------+\n",
            "|inpX|inpY|COORD_inp|\n",
            "+----+----+---------+\n",
            "|   1|   1|    (1,1)|\n",
            "|   2|   9|    (2,9)|\n",
            "|   8|   6|    (8,6)|\n",
            "|   6|   5|    (6,5)|\n",
            "|   5|   8|    (5,8)|\n",
            "+----+----+---------+\n",
            "only showing top 5 rows\n",
            "\n",
            "+------+------+-----------+\n",
            "|trainX|trainY|COORD_train|\n",
            "+------+------+-----------+\n",
            "|     5|     8|      (5,8)|\n",
            "|     1|    10|     (1,10)|\n",
            "|    10|     3|     (10,3)|\n",
            "|     8|     6|      (8,6)|\n",
            "|     7|     5|      (7,5)|\n",
            "+------+------+-----------+\n",
            "only showing top 5 rows\n",
            "\n"
          ]
        }
      ]
    },
    {
      "cell_type": "code",
      "source": [
        "# first find the max values from each dataframe in order to find the quadrants\n",
        "maxX_inp = df_inp.agg({\"inpX\":\"max\"}).first()[0]     \n",
        "maxX_trn = df_train.agg({\"trainX\":\"max\"}).first()[0]  \n",
        "\n",
        "maxY_inp = df_inp.agg({\"inpY\":\"max\"}).first()[0]  \n",
        "maxY_trn = df_train.agg({\"trainY\":\"max\"}).first()[0]\n",
        "\n",
        "min_quadran = (max(maxX_inp,maxX_trn))\n",
        "max_quadran = (max(maxY_inp,maxY_trn))\n",
        "\n",
        "print(min_quadran)\n",
        "print(max_quadran)"
      ],
      "metadata": {
        "colab": {
          "base_uri": "https://localhost:8080/"
        },
        "id": "fgIqX6bSSOa1",
        "outputId": "8cb5d1c8-2411-40c9-e46c-96ff65b0ee56"
      },
      "execution_count": 501,
      "outputs": [
        {
          "output_type": "stream",
          "name": "stdout",
          "text": [
            "10\n",
            "10\n"
          ]
        }
      ]
    },
    {
      "cell_type": "code",
      "source": [
        "mx = [val.inpX for val in df_inp.select('inpX').collect()]\n",
        "my = [val.inpY for val in df_inp.select('inpY').collect()]\n",
        "plt.scatter(mx, my, marker='x', color = 'brown')\n",
        "\n",
        "tx = [val.trainX for val in df_train.select('trainX').collect()]\n",
        "ty = [val.trainY for val in df_train.select('trainY').collect()]\n",
        "plt.scatter(tx, ty, marker='p', color = 'blue')\n",
        "\n",
        "# Draw lines to split quadrants\n",
        "plt.plot([min_quadran/2,min_quadran/2],[0,max_quadran], linewidth=1, color='black' )\n",
        "plt.plot([0,min_quadran],[max_quadran/2,max_quadran/2], linewidth=1, color='black' )\n",
        "\n",
        "plt.show()"
      ],
      "metadata": {
        "id": "08TyXRTw8fZM",
        "outputId": "f41d626f-74fa-4e06-9ee2-5ed3661a0125",
        "colab": {
          "base_uri": "https://localhost:8080/",
          "height": 265
        }
      },
      "execution_count": 502,
      "outputs": [
        {
          "output_type": "display_data",
          "data": {
            "text/plain": [
              "<Figure size 432x288 with 1 Axes>"
            ],
            "image/png": "[encoded data removed]"
          },
          "metadata": {
            "needs_background": "light"
          }
        }
      ]
    },
    {
      "cell_type": "markdown",
      "source": [
        "Get the value for distance range from user"
      ],
      "metadata": {
        "id": "LR-xUX4rl910"
      }
    },
    {
      "cell_type": "code",
      "source": [
        "range_val = 0\n",
        "try:\n",
        "  range_val = int(input(\"Enter your value for range : \"))\n",
        "except ValueError:\n",
        "    print(\"This is not a number\")    "
      ],
      "metadata": {
        "colab": {
          "base_uri": "https://localhost:8080/"
        },
        "id": "CilfUq7_ltfq",
        "outputId": "1de5c694-c527-478e-a6a7-e45beaca381b"
      },
      "execution_count": 503,
      "outputs": [
        {
          "name": "stdout",
          "output_type": "stream",
          "text": [
            "Enter your value for range : 5\n"
          ]
        }
      ]
    },
    {
      "cell_type": "markdown",
      "source": [
        "### Before starting the process we are going to partition both dataframes"
      ],
      "metadata": {
        "id": "hJmv1C9Z1-Oq"
      }
    },
    {
      "cell_type": "code",
      "source": [
        "print(\"*** Looking at partitions *** \")\n",
        "\n",
        "### first for inp dataframe ### \n",
        "inp_partitionCount = df_inp.rdd.getNumPartitions()\n",
        "print(\"Partition count before repartition: {}\".format(inp_partitionCount))\n",
        "df_inp = df_inp.repartition(1)\n",
        "print(\"Partition count for input dataframe after repartition: {}\".format(df_inp.rdd.getNumPartitions()))\n",
        "\n",
        "### same for train dataframe ### \n",
        "train_partitionCount = df_train.rdd.getNumPartitions()\n",
        "print(\"Partition count before repartition: {}\".format(train_partitionCount))\n",
        "df_train = df_train.repartition(1)\n",
        "print(\"Partition count for train dataframe after repartition: {}\".format(df_train.rdd.getNumPartitions()))\n",
        "\n",
        "print(\"end of handling partitions\")"
      ],
      "metadata": {
        "colab": {
          "base_uri": "https://localhost:8080/"
        },
        "id": "mL778zNX2PyF",
        "outputId": "6cf8e6b4-f270-4e2f-c894-2b5ac3eb614b"
      },
      "execution_count": 512,
      "outputs": [
        {
          "output_type": "stream",
          "name": "stdout",
          "text": [
            "*** Looking at partitions *** \n",
            "Partition count before repartition: 1\n",
            "Partition count for input dataframe after repartition: 1\n",
            "Partition count before repartition: 1\n",
            "Partition count for train dataframe after repartition: 1\n",
            "end of handling partitions\n"
          ]
        }
      ]
    },
    {
      "cell_type": "markdown",
      "source": [
        "#### Create a function that calculates the distance between two points"
      ],
      "metadata": {
        "id": "qsBYt5yO0wpC"
      }
    },
    {
      "cell_type": "code",
      "source": [
        "# Function to calculate distance between points using Pythagoras' theorem\n",
        "import math\n",
        "def distance(i1 , t1 , i2 , t2):\n",
        " \n",
        "    return math.sqrt(math.pow(i2 - i1, 2) + math.pow(t2 - t1, 2) * 1.0)"
      ],
      "metadata": {
        "id": "H-3q6_cq7QJd"
      },
      "execution_count": 513,
      "outputs": []
    },
    {
      "cell_type": "code",
      "source": [
        "# function to call in order to calculate the points of train that are in range of points of input\n",
        "\n",
        "def check_in_range(i, t, r):\n",
        "\n",
        "  for a in range(i.count()) :\n",
        "   for b in range(t.count()) :\n",
        "    print( '(' , i.collect()[a][0] , i.collect()[a][1] , ')', '-', '(' , t.collect()[b][0] , t.collect()[b][1], ')')\n",
        "    dist = distance(i.collect()[a][1] , i.collect()[a][0] , t.collect()[b][1] , t.collect()[b][0])\n",
        "\n",
        "    if dist <= range_val :\n",
        "      print(\"Points in range :\", dist, \"<=\", r)\n",
        "    else : \n",
        "      print(\"Points out of range :\", dist, \">\", r)\n",
        "    \n",
        "    print(\"----------------------\")"
      ],
      "metadata": {
        "id": "IPy2LNOO7VXn"
      },
      "execution_count": 519,
      "outputs": []
    },
    {
      "cell_type": "markdown",
      "source": [
        "### Now call the functions in order to get the requested results"
      ],
      "metadata": {
        "id": "3GrbqXHI6w2h"
      }
    },
    {
      "cell_type": "code",
      "source": [
        "t4 = int(round(time.time() * 1000))"
      ],
      "metadata": {
        "id": "_czcEZ740VRx"
      },
      "execution_count": 520,
      "outputs": []
    },
    {
      "cell_type": "code",
      "source": [
        "list_with_range_flag = []\n",
        "check_in_range(df_inp, df_train, range_val)"
      ],
      "metadata": {
        "id": "lL-VlBsG65Uk"
      },
      "execution_count": null,
      "outputs": []
    },
    {
      "cell_type": "code",
      "source": [
        "t5 = int(round(time.time() * 1000))\n",
        "print(\"Analyzing result in {} ms\".format(t5 - t4))"
      ],
      "metadata": {
        "colab": {
          "base_uri": "https://localhost:8080/"
        },
        "id": "EY6Nqbdz0tU8",
        "outputId": "b3db89cf-2f89-42b1-93a6-31076293396e"
      },
      "execution_count": 517,
      "outputs": [
        {
          "output_type": "stream",
          "name": "stdout",
          "text": [
            "Analyzing result in 19283 ms\n"
          ]
        }
      ]
    },
    {
      "cell_type": "code",
      "source": [
        "# the previous were just to test that spark was ok set up\n",
        "spark.stop()"
      ],
      "metadata": {
        "id": "j0PUG8qNyrXv"
      },
      "execution_count": 518,
      "outputs": []
    }
  ]
}