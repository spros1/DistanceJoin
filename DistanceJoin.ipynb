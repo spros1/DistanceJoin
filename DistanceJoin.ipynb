{
  "nbformat": 4,
  "nbformat_minor": 0,
  "metadata": {
    "colab": {
      "name": "DistanceJoin.ipynb",
      "provenance": [],
      "collapsed_sections": [],
      "authorship_tag": "ABX9TyMIE+2M9lXuc9EIuxqU3N81",
      "include_colab_link": true
    },
    "kernelspec": {
      "name": "python3",
      "display_name": "Python 3"
    },
    "language_info": {
      "name": "python"
    }
  },
  "cells": [
    {
      "cell_type": "markdown",
      "metadata": {
        "id": "view-in-github",
        "colab_type": "text"
      },
      "source": [
        "<a href=\"https://colab.research.google.com/github/spros1/DistanceJoin/blob/main/DistanceJoin.ipynb\" target=\"_parent\"><img src=\"https://colab.research.google.com/assets/colab-badge.svg\" alt=\"Open In Colab\"/></a>"
      ]
    },
    {
      "cell_type": "markdown",
      "source": [
        "For two sets given A and B ( with values (ID,X,Y) ) : <br>\n",
        "Find the pairs (a,b), where a in Α and b in Β, \n",
        "to wich it applies : d(a,b) ≤ c, where c parameter given from the user "
      ],
      "metadata": {
        "id": "cEXxpskFv5gj"
      }
    },
    {
      "cell_type": "code",
      "execution_count": 151,
      "metadata": {
        "id": "xBle1FUSkXMP"
      },
      "outputs": [],
      "source": [
        "# importing the required module\n",
        "import matplotlib.pyplot as plt\n",
        "import numpy as np"
      ]
    },
    {
      "cell_type": "markdown",
      "source": [
        "###Create two lists of points for initial tests\n",
        "### At next phases this will change to csvs"
      ],
      "metadata": {
        "id": "Grz8kKWyroOA"
      }
    },
    {
      "cell_type": "code",
      "source": [
        "marks = [['I',6,3],['I',4,4],['I',1,2],['I',8,2], ['I',2,12]]\n",
        "train = [['T', 2, 2], ['T',6,4]]\n",
        "\n",
        "print(marks)\n",
        "print(train)"
      ],
      "metadata": {
        "colab": {
          "base_uri": "https://localhost:8080/"
        },
        "id": "_eHHJq9Vl1SL",
        "outputId": "2cd1bba9-691a-41f8-91db-7daeb78f7325"
      },
      "execution_count": 188,
      "outputs": [
        {
          "output_type": "stream",
          "name": "stdout",
          "text": [
            "[['I', 6, 3], ['I', 4, 4], ['I', 1, 2], ['I', 8, 2], ['I', 2, 12]]\n",
            "[['T', 2, 2], ['T', 6, 4]]\n"
          ]
        }
      ]
    },
    {
      "cell_type": "markdown",
      "source": [
        "### Plot the points ( marks -> o , train -> x )"
      ],
      "metadata": {
        "id": "7Hve7t1Qrxc4"
      }
    },
    {
      "cell_type": "code",
      "source": [
        "# first find the max values from each list in order to find the quadrants -> use lamda function in order not to create build in function\n",
        "maxX_inp = max(marks, key=lambda x: x[1])\n",
        "maxX_trn = max(train, key=lambda x: x[1])\n",
        "print(maxX_inp)\n",
        "print(maxX_trn)\n",
        "\n",
        "maxY_inp = max(marks, key=lambda x: x[2])\n",
        "maxY_trn = max(train, key=lambda x: x[2])\n",
        "print(maxY_inp)\n",
        "print(maxY_inp)\n",
        "\n",
        "min_quadran = (max(maxX_inp[1],maxX_trn[1]))\n",
        "max_quadran = (max(maxY_inp[2],maxY_trn[2]))\n",
        "print(min_quadran)\n",
        "print(max_quadran)"
      ],
      "metadata": {
        "colab": {
          "base_uri": "https://localhost:8080/"
        },
        "id": "fgIqX6bSSOa1",
        "outputId": "b67b7f26-fff7-42bd-8ff3-ed87aa70ce8a"
      },
      "execution_count": 189,
      "outputs": [
        {
          "output_type": "stream",
          "name": "stdout",
          "text": [
            "['I', 8, 2]\n",
            "['T', 6, 4]\n",
            "['I', 2, 12]\n",
            "['I', 2, 12]\n",
            "8\n",
            "12\n"
          ]
        }
      ]
    },
    {
      "cell_type": "code",
      "source": [
        "for a in range(len(marks)):\n",
        "  mx = marks[a][1]\n",
        "  my = marks[a][2]\n",
        "  plt.scatter(mx, my, marker='x', color = 'brown')\n",
        "\n",
        "for b in range(len(train)):\n",
        "  tx = train[b][1]\n",
        "  ty = train[b][2]\n",
        "  plt.scatter(tx, ty, marker='p', color = 'blue')\n",
        "\n",
        "# Draw lines to split quadrants\n",
        "plt.plot([min_quadran/2,min_quadran/2],[0,max_quadran], linewidth=1, color='black' )\n",
        "plt.plot([0,min_quadran],[max_quadran/2,max_quadran/2], linewidth=1, color='black' )\n",
        "\n",
        "plt.show()"
      ],
      "metadata": {
        "id": "08TyXRTw8fZM",
        "outputId": "97c6bdff-7fdb-4b32-c6b8-d6587416e40d",
        "colab": {
          "base_uri": "https://localhost:8080/",
          "height": 265
        }
      },
      "execution_count": 190,
      "outputs": [
        {
          "output_type": "display_data",
          "data": {
            "text/plain": [
              "<Figure size 432x288 with 1 Axes>"
            ],
            "image/png": "[encoded data removed]"
          },
          "metadata": {
            "needs_background": "light"
          }
        }
      ]
    },
    {
      "cell_type": "markdown",
      "source": [
        "Get the value for range from user and "
      ],
      "metadata": {
        "id": "LR-xUX4rl910"
      }
    },
    {
      "cell_type": "code",
      "source": [
        "range_val = 0\n",
        "try:\n",
        "  range_val = int(input(\"Enter your value for range : \"))\n",
        "except ValueError:\n",
        "    print(\"This is not a number\")    "
      ],
      "metadata": {
        "colab": {
          "base_uri": "https://localhost:8080/"
        },
        "id": "CilfUq7_ltfq",
        "outputId": "920ece97-00b7-4e80-ee9e-5f633bf69526"
      },
      "execution_count": 191,
      "outputs": [
        {
          "name": "stdout",
          "output_type": "stream",
          "text": [
            "Enter your value for range : 2\n"
          ]
        }
      ]
    },
    {
      "cell_type": "markdown",
      "source": [
        "#### Create a function that calculates the distance between two points"
      ],
      "metadata": {
        "id": "qsBYt5yO0wpC"
      }
    },
    {
      "cell_type": "code",
      "source": [
        "# Function to calculate distance between points using Pythagoras' theorem\n",
        "import math\n",
        "def distance(i1 , t1 , i2 , t2):\n",
        " \n",
        "    return math.sqrt(math.pow(i2 - i1, 2) + math.pow(t2 - t1, 2) * 1.0)"
      ],
      "metadata": {
        "id": "H-3q6_cq7QJd"
      },
      "execution_count": 195,
      "outputs": []
    },
    {
      "cell_type": "code",
      "source": [
        "# function to call in order to calculate the points of train that are in range of points of input\n",
        "\n",
        "def check_in_range(i, t, r):\n",
        "\n",
        "  for a in range(len(i) ) :\n",
        "   for b in range(len(t) ):\n",
        "    print(i[a])\n",
        "    print(t[b])\n",
        "    dist = distance(i[a][2] , i[a][1], t[b][2] , t[b][1])\n",
        "\n",
        "    if dist <= range_val :\n",
        "     list_with_range_flag.append([i[a],t[b],['Y']])\n",
        "     print(\"Points in range :\", dist, \"<=\", r)\n",
        "    else : \n",
        "     list_with_range_flag.append([i[a],t[b],['N']])\n",
        "     print(\"Points out of range :\", dist, \">\", r)\n",
        "    \n",
        "    print(\"----------------------\")"
      ],
      "metadata": {
        "id": "IPy2LNOO7VXn"
      },
      "execution_count": 199,
      "outputs": []
    },
    {
      "cell_type": "markdown",
      "source": [
        "### Now call the functions in order to get the requested results"
      ],
      "metadata": {
        "id": "3GrbqXHI6w2h"
      }
    },
    {
      "cell_type": "code",
      "source": [
        "list_with_range_flag = []\n",
        "check_in_range(marks, train, range_val)"
      ],
      "metadata": {
        "id": "lL-VlBsG65Uk",
        "outputId": "97f1d7e3-5820-479a-8621-e750964eb303",
        "colab": {
          "base_uri": "https://localhost:8080/"
        }
      },
      "execution_count": 200,
      "outputs": [
        {
          "output_type": "stream",
          "name": "stdout",
          "text": [
            "['I', 6, 3]\n",
            "['T', 2, 2]\n",
            "Points out of range : 4.123105625617661 > 2\n",
            "----------------------\n",
            "['I', 6, 3]\n",
            "['T', 6, 4]\n",
            "Points in range : 1.0 <= 2\n",
            "----------------------\n",
            "['I', 4, 4]\n",
            "['T', 2, 2]\n",
            "Points out of range : 2.8284271247461903 > 2\n",
            "----------------------\n",
            "['I', 4, 4]\n",
            "['T', 6, 4]\n",
            "Points in range : 2.0 <= 2\n",
            "----------------------\n",
            "['I', 1, 2]\n",
            "['T', 2, 2]\n",
            "Points in range : 1.0 <= 2\n",
            "----------------------\n",
            "['I', 1, 2]\n",
            "['T', 6, 4]\n",
            "Points out of range : 5.385164807134504 > 2\n",
            "----------------------\n",
            "['I', 8, 2]\n",
            "['T', 2, 2]\n",
            "Points out of range : 6.0 > 2\n",
            "----------------------\n",
            "['I', 8, 2]\n",
            "['T', 6, 4]\n",
            "Points out of range : 2.8284271247461903 > 2\n",
            "----------------------\n",
            "['I', 2, 12]\n",
            "['T', 2, 2]\n",
            "Points out of range : 10.0 > 2\n",
            "----------------------\n",
            "['I', 2, 12]\n",
            "['T', 6, 4]\n",
            "Points out of range : 8.94427190999916 > 2\n",
            "----------------------\n"
          ]
        }
      ]
    },
    {
      "cell_type": "code",
      "source": [
        "# Last print the results\n",
        "for i in range(len(list_with_range_flag)):\n",
        "    if list_with_range_flag[i][2] == ['Y']:\n",
        "      \tprint(list_with_range_flag[i] )"
      ],
      "metadata": {
        "colab": {
          "base_uri": "https://localhost:8080/"
        },
        "id": "8nNz9-RCpIRp",
        "outputId": "575dbb06-c8bb-442c-8cf8-184540148aa5"
      },
      "execution_count": 202,
      "outputs": [
        {
          "output_type": "stream",
          "name": "stdout",
          "text": [
            "[['I', 6, 3], ['T', 6, 4], ['Y']]\n",
            "[['I', 4, 4], ['T', 6, 4], ['Y']]\n",
            "[['I', 1, 2], ['T', 2, 2], ['Y']]\n"
          ]
        }
      ]
    }
  ]
}