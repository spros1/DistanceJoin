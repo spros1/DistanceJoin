{
  "nbformat": 4,
  "nbformat_minor": 0,
  "metadata": {
    "colab": {
      "name": "DistanceJoin.ipynb",
      "provenance": [],
      "collapsed_sections": [],
      "authorship_tag": "ABX9TyNZciHDdJtDscWGGOM2iF9x",
      "include_colab_link": true
    },
    "kernelspec": {
      "name": "python3",
      "display_name": "Python 3"
    },
    "language_info": {
      "name": "python"
    }
  },
  "cells": [
    {
      "cell_type": "markdown",
      "metadata": {
        "id": "view-in-github",
        "colab_type": "text"
      },
      "source": [
        "<a href=\"https://colab.research.google.com/github/spros1/DistanceJoin/blob/main/DistanceJoin.ipynb\" target=\"_parent\"><img src=\"https://colab.research.google.com/assets/colab-badge.svg\" alt=\"Open In Colab\"/></a>"
      ]
    },
    {
      "cell_type": "markdown",
      "source": [
        "###First we need to install everything needed in order to run Python & Apache Spark in Colab\n"
      ],
      "metadata": {
        "id": "IxOtCtC2AF7m"
      }
    },
    {
      "cell_type": "code",
      "source": [
        "# install Java8\n",
        "!apt-get install openjdk-8-jdk-headless -qq > /dev/null"
      ],
      "metadata": {
        "id": "VzUF5N4eAFBW"
      },
      "execution_count": 27,
      "outputs": []
    },
    {
      "cell_type": "code",
      "source": [
        "# download spark3.2.1\n",
        "!wget -q https://ftp.cc.uoc.gr/mirrors/apache/spark/spark-3.2.1/spark-3.2.1-bin-hadoop2.7.tgz "
      ],
      "metadata": {
        "id": "svHzX8UeAVum"
      },
      "execution_count": 13,
      "outputs": []
    },
    {
      "cell_type": "code",
      "source": [
        "# unzip it\n",
        "!tar xvf spark-3.2.1-bin-hadoop2.7.tgz"
      ],
      "metadata": {
        "id": "R0abKQaoAV8l"
      },
      "execution_count": null,
      "outputs": []
    },
    {
      "cell_type": "code",
      "source": [
        "# install findspark \n",
        "!pip install -q findspark"
      ],
      "metadata": {
        "id": "jw2mHjOKAWFp"
      },
      "execution_count": 15,
      "outputs": []
    },
    {
      "cell_type": "code",
      "source": [
        "import os\n",
        "os.environ[\"JAVA_HOME\"] = \"/usr/lib/jvm/java-8-openjdk-amd64\"\n",
        "os.environ[\"SPARK_HOME\"] = \"/content/spark-3.2.1-bin-hadoop2.7\""
      ],
      "metadata": {
        "id": "1S3dyF7BAWMy"
      },
      "execution_count": 16,
      "outputs": []
    },
    {
      "cell_type": "markdown",
      "source": [
        "#### A test in order to check that all are ok"
      ],
      "metadata": {
        "id": "VzSgZmRqAhlq"
      }
    },
    {
      "cell_type": "code",
      "source": [
        "import findspark\n",
        "findspark.init()                                               # make pyspark importable as a regular library\n",
        "from pyspark.sql import SparkSession                           # create Spark session\n",
        "spark = SparkSession.builder.master(\"local[*]\").getOrCreate()\n",
        "\n",
        "# Test spark\n",
        "df = spark.createDataFrame([{\"hello\": \"world\"} for x in range(1000)])\n",
        "df.show(5)"
      ],
      "metadata": {
        "colab": {
          "base_uri": "https://localhost:8080/"
        },
        "id": "vj4UQd2vAWTn",
        "outputId": "fa6e62de-c08e-4b3c-e242-16e228ca4e67"
      },
      "execution_count": 271,
      "outputs": [
        {
          "output_type": "stream",
          "name": "stdout",
          "text": [
            "+-----+\n",
            "|hello|\n",
            "+-----+\n",
            "|world|\n",
            "|world|\n",
            "|world|\n",
            "|world|\n",
            "|world|\n",
            "+-----+\n",
            "only showing top 5 rows\n",
            "\n"
          ]
        }
      ]
    },
    {
      "cell_type": "code",
      "source": [
        "# the previous were just to test that spark was ok set up , we will start it again\n",
        "spark.stop()"
      ],
      "metadata": {
        "id": "hwHQ52KSK01t"
      },
      "execution_count": 273,
      "outputs": []
    },
    {
      "cell_type": "markdown",
      "source": [
        "# Now lets start :\n",
        "For two sets given A and B ( with values (ID,X,Y) ) : <br>\n",
        "Find the pairs (a,b), where a in Α and b in Β, \n",
        "to wich it applies : d(a,b) ≤ c, where c parameter given from the user "
      ],
      "metadata": {
        "id": "cEXxpskFv5gj"
      }
    },
    {
      "cell_type": "markdown",
      "source": [
        "### First we are going to make a routine in order to produce two csv files with the number of records that the user will give\n"
      ],
      "metadata": {
        "id": "_Kjaub_FB_3s"
      }
    },
    {
      "cell_type": "code",
      "source": [
        "# imports that are going to be used for the population for our two datasets \n",
        "import random\n",
        "from random import sample\n",
        "import csv"
      ],
      "metadata": {
        "id": "gEW8kdy04GRy"
      },
      "execution_count": 274,
      "outputs": []
    },
    {
      "cell_type": "code",
      "source": [
        "def get_generated_points( gen_num, csv_name):\n",
        "  \n",
        "  x = random.sample(range(1, gen_num+1), gen_num)\n",
        "  y = random.sample(range(1, gen_num+1), gen_num)\n",
        "\n",
        "  fin_data = list(zip(x,y))\n",
        " \n",
        "# generate csv\n",
        "  with open(csv_name, \"a\") as f:\n",
        "    f.truncate(0)\n",
        "    coords = [map(str, tupl) for tupl in fin_data]\n",
        "    writer = csv.writer(f, delimiter=',')\n",
        "\n",
        "    for line in coords:\n",
        "      writer.writerow(line)\n",
        "\n",
        "# plot it also that \n",
        "  plt.scatter(x, y)\n",
        "  plt.show()\n",
        "\n",
        "  return fin_data"
      ],
      "metadata": {
        "id": "LrtRZbitBu_7"
      },
      "execution_count": 275,
      "outputs": []
    },
    {
      "cell_type": "markdown",
      "source": [
        "#### Now the user must give the max number of points for the two datasets"
      ],
      "metadata": {
        "id": "VfK76d7MKVLH"
      }
    },
    {
      "cell_type": "code",
      "source": [
        "inpCSV_total_points = 0\n",
        "try:\n",
        "  inpCSV_total_points = int(input(\"Enter the max value for csv with inp points : \"))\n",
        "except ValueError:\n",
        "    print(\"This is not a number\")   "
      ],
      "metadata": {
        "colab": {
          "base_uri": "https://localhost:8080/"
        },
        "id": "L-yVh9RYKJqU",
        "outputId": "453b409e-d0e2-419d-aa5d-2f52dc358f0a"
      },
      "execution_count": 276,
      "outputs": [
        {
          "name": "stdout",
          "output_type": "stream",
          "text": [
            "Enter the max value for csv with inp points : 10\n"
          ]
        }
      ]
    },
    {
      "cell_type": "code",
      "source": [
        "trainCSV_total_points = 0\n",
        "try:\n",
        "  trainCSV_total_points = int(input(\"Enter the max value for csv with train points : \"))\n",
        "except ValueError:\n",
        "    print(\"This is not a number\")   "
      ],
      "metadata": {
        "colab": {
          "base_uri": "https://localhost:8080/"
        },
        "id": "0XcWZSqmKeKL",
        "outputId": "066548c2-597c-45f3-a7cb-7b01181ea305"
      },
      "execution_count": 277,
      "outputs": [
        {
          "name": "stdout",
          "output_type": "stream",
          "text": [
            "Enter the max value for csv with train points : 5\n"
          ]
        }
      ]
    },
    {
      "cell_type": "code",
      "source": [
        "# create the input dataset\n",
        "inpPoints = get_generated_points(inpCSV_total_points , 'InputCSV.csv')\n",
        "print(inpPoints)\n",
        "\n",
        "print('\\n')\n",
        "\n",
        "trainPoints = get_generated_points(trainCSV_total_points , 'TrainCSV.csv')\n",
        "print(trainPoints)"
      ],
      "metadata": {
        "colab": {
          "base_uri": "https://localhost:8080/",
          "height": 582
        },
        "id": "3hgD3j0TBqNz",
        "outputId": "8e77604a-f3c8-4d0a-9e18-571e2f1a7d99"
      },
      "execution_count": 278,
      "outputs": [
        {
          "output_type": "display_data",
          "data": {
            "text/plain": [
              "<Figure size 432x288 with 1 Axes>"
            ],
            "image/png": "[encoded data removed]"
          },
          "metadata": {
            "needs_background": "light"
          }
        },
        {
          "output_type": "stream",
          "name": "stdout",
          "text": [
            "[(9, 6), (10, 9), (8, 2), (1, 8), (3, 4), (7, 7), (6, 10), (2, 1), (5, 3), (4, 5)]\n",
            "\n",
            "\n"
          ]
        },
        {
          "output_type": "display_data",
          "data": {
            "text/plain": [
              "<Figure size 432x288 with 1 Axes>"
            ],
            "image/png": "[encoded data removed]"
          },
          "metadata": {
            "needs_background": "light"
          }
        },
        {
          "output_type": "stream",
          "name": "stdout",
          "text": [
            "[(2, 5), (1, 4), (4, 2), (5, 1), (3, 3)]\n"
          ]
        }
      ]
    },
    {
      "cell_type": "markdown",
      "source": [
        "### Read from the two csvs the data\n",
        "(from the two we create or other , it is the same just change the name of input file)\n"
      ],
      "metadata": {
        "id": "Grz8kKWyroOA"
      }
    },
    {
      "cell_type": "code",
      "execution_count": 357,
      "metadata": {
        "id": "xBle1FUSkXMP"
      },
      "outputs": [],
      "source": [
        "# importing the required module\n",
        "from pyspark.sql import SparkSession\n",
        "from pyspark.sql import functions as f\n",
        "from pyspark.sql.functions import lit,col,concat\n",
        "import os\n",
        "\n",
        "import matplotlib.pyplot as plt\n",
        "import numpy as np"
      ]
    },
    {
      "cell_type": "code",
      "source": [
        "# give the path of input and train file to read \n",
        "inpFile   = \"InputCSV.csv\" \n",
        "trainFile = \"TrainCSV.csv\""
      ],
      "metadata": {
        "id": "KkYTgCC8QJmy"
      },
      "execution_count": 287,
      "outputs": []
    },
    {
      "cell_type": "code",
      "source": [
        "spark = SparkSession.builder.appName(\"CSV\").master(\"local\").getOrCreate()             # Creates a session on a local master\n",
        "\n",
        "df_inp   = spark.read.csv(inferSchema=True, path=inpFile).toDF(\"inpX\"  ,\"inpY\"  )     # Reads input CSV file with no header, in a dataframe\n",
        "df_train = spark.read.csv(inferSchema=True, path=trainFile).toDF(\"trainX\",\"trainY\")   # Reads train CSV file with no header, in a dataframe"
      ],
      "metadata": {
        "id": "_eHHJq9Vl1SL"
      },
      "execution_count": 289,
      "outputs": []
    },
    {
      "cell_type": "code",
      "source": [
        "print(\"*** Right after ingestion ***\")\n",
        "\n",
        "df_inp.show(5)\n",
        "print(\"We have {} input records.\".format(df_inp.count()))\n",
        "\n",
        "print('\\n')\n",
        "\n",
        "df_train.show(5)\n",
        "print(\"We have {} train records.\".format(df_train.count()))"
      ],
      "metadata": {
        "colab": {
          "base_uri": "https://localhost:8080/"
        },
        "id": "wOtFXlFJM75F",
        "outputId": "3e93bd21-f4e3-42d9-a76b-a0c5379dcc66"
      },
      "execution_count": 295,
      "outputs": [
        {
          "output_type": "stream",
          "name": "stdout",
          "text": [
            "*** Right after ingestion ***\n",
            "+----+----+\n",
            "|inpX|inpY|\n",
            "+----+----+\n",
            "|   9|   6|\n",
            "|  10|   9|\n",
            "|   8|   2|\n",
            "|   1|   8|\n",
            "|   3|   4|\n",
            "+----+----+\n",
            "only showing top 5 rows\n",
            "\n",
            "We have 10 input records.\n",
            "\n",
            "\n",
            "+------+------+\n",
            "|trainX|trainY|\n",
            "+------+------+\n",
            "|     2|     5|\n",
            "|     1|     4|\n",
            "|     4|     2|\n",
            "|     5|     1|\n",
            "|     3|     3|\n",
            "+------+------+\n",
            "\n",
            "We have 5 train records.\n"
          ]
        }
      ]
    },
    {
      "cell_type": "code",
      "source": [
        "# Print the schema to standard output (stdout) by using printSchema().\n",
        "df_inp.printSchema()\n",
        "df_train.printSchema()"
      ],
      "metadata": {
        "colab": {
          "base_uri": "https://localhost:8080/"
        },
        "id": "gqoXl9_nM_Gt",
        "outputId": "18a0960c-40ff-4428-9cd7-1c9bfd359377"
      },
      "execution_count": 296,
      "outputs": [
        {
          "output_type": "stream",
          "name": "stdout",
          "text": [
            "root\n",
            " |-- inpX: integer (nullable = true)\n",
            " |-- inpY: integer (nullable = true)\n",
            "\n",
            "root\n",
            " |-- trainX: integer (nullable = true)\n",
            " |-- trainY: integer (nullable = true)\n",
            "\n"
          ]
        }
      ]
    },
    {
      "cell_type": "markdown",
      "source": [
        "### Plot the points ( inp -> o , train -> x )"
      ],
      "metadata": {
        "id": "7Hve7t1Qrxc4"
      }
    },
    {
      "cell_type": "code",
      "source": [
        "# Add a new column: COORD which consists of: (X,Y)\n",
        "df_inp = df_inp.withColumn(\"COORD_inp\", concat(lit(\"(\"), col(\"inpX\"), lit(\",\"), col(\"inpY\"), lit(\")\")))\n",
        "\n",
        "print(\"*** Input Dataframe Transformed\")\n",
        "df_inp.show(5)"
      ],
      "metadata": {
        "colab": {
          "base_uri": "https://localhost:8080/"
        },
        "id": "oqLhOtryRdCw",
        "outputId": "c801b8b8-d8a9-4878-a079-e802099b9a79"
      },
      "execution_count": 299,
      "outputs": [
        {
          "output_type": "stream",
          "name": "stdout",
          "text": [
            "*** Input Dataframe Transformed\n",
            "+----+----+------+---------+\n",
            "|inpX|inpY| COORD|COORD_inp|\n",
            "+----+----+------+---------+\n",
            "|   9|   6| (9,6)|    (9,6)|\n",
            "|  10|   9|(10,9)|   (10,9)|\n",
            "|   8|   2| (8,2)|    (8,2)|\n",
            "|   1|   8| (1,8)|    (1,8)|\n",
            "|   3|   4| (3,4)|    (3,4)|\n",
            "+----+----+------+---------+\n",
            "only showing top 5 rows\n",
            "\n"
          ]
        }
      ]
    },
    {
      "cell_type": "code",
      "source": [
        "# Add a new column: COORD which consists of: (X,Y)\n",
        "df_train = df_train.withColumn(\"COORD_train\", concat(lit(\"(\"), col(\"trainX\"), lit(\",\"), col(\"trainY\"), lit(\")\")))\n",
        "\n"
      ],
      "metadata": {
        "colab": {
          "base_uri": "https://localhost:8080/"
        },
        "id": "1cFJAn7iR1db",
        "outputId": "f0b5ad40-822f-44fb-9685-b2db91d2d581"
      },
      "execution_count": 301,
      "outputs": [
        {
          "output_type": "stream",
          "name": "stdout",
          "text": [
            "*** Input Dataframe Transformed\n",
            "+------+------+-----------+\n",
            "|trainX|trainY|COORD_train|\n",
            "+------+------+-----------+\n",
            "|     2|     5|      (2,5)|\n",
            "|     1|     4|      (1,4)|\n",
            "|     4|     2|      (4,2)|\n",
            "|     5|     1|      (5,1)|\n",
            "|     3|     3|      (3,3)|\n",
            "+------+------+-----------+\n",
            "\n"
          ]
        }
      ]
    },
    {
      "cell_type": "code",
      "source": [
        "print(\"*** Input and train Dataframes Transformed :\")\n",
        "df_inp.show(5)\n",
        "df_train.show(5)"
      ],
      "metadata": {
        "colab": {
          "base_uri": "https://localhost:8080/"
        },
        "id": "hnMjamR-SLOE",
        "outputId": "872ac4a5-d85d-4488-bcef-301e27c19c33"
      },
      "execution_count": 307,
      "outputs": [
        {
          "output_type": "stream",
          "name": "stdout",
          "text": [
            "*** Input and train Dataframes Transformed :\n",
            "+----+----+---------+\n",
            "|inpX|inpY|COORD_inp|\n",
            "+----+----+---------+\n",
            "|   9|   6|    (9,6)|\n",
            "|  10|   9|   (10,9)|\n",
            "|   8|   2|    (8,2)|\n",
            "|   1|   8|    (1,8)|\n",
            "|   3|   4|    (3,4)|\n",
            "+----+----+---------+\n",
            "only showing top 5 rows\n",
            "\n",
            "+------+------+-----------+\n",
            "|trainX|trainY|COORD_train|\n",
            "+------+------+-----------+\n",
            "|     2|     5|      (2,5)|\n",
            "|     1|     4|      (1,4)|\n",
            "|     4|     2|      (4,2)|\n",
            "|     5|     1|      (5,1)|\n",
            "|     3|     3|      (3,3)|\n",
            "+------+------+-----------+\n",
            "\n"
          ]
        }
      ]
    },
    {
      "cell_type": "code",
      "source": [
        "# first find the max values from each dataframe in order to find the quadrants\n",
        "maxX_inp = df_inp.agg({\"inpX\":\"max\"}).first()[0]     \n",
        "maxX_trn = df_train.agg({\"trainX\":\"max\"}).first()[0]  \n",
        "\n",
        "maxY_inp = df_inp.agg({\"inpY\":\"max\"}).first()[0]  \n",
        "maxY_trn = df_train.agg({\"trainY\":\"max\"}).first()[0]\n",
        "\n",
        "min_quadran = (max(maxX_inp,maxX_trn))\n",
        "max_quadran = (max(maxY_inp,maxY_trn))\n",
        "\n",
        "print(min_quadran)\n",
        "print(max_quadran)"
      ],
      "metadata": {
        "colab": {
          "base_uri": "https://localhost:8080/"
        },
        "id": "fgIqX6bSSOa1",
        "outputId": "2ca45ab5-cb35-4ef0-dd4b-2fc3a0811cb2"
      },
      "execution_count": 323,
      "outputs": [
        {
          "output_type": "stream",
          "name": "stdout",
          "text": [
            "10\n",
            "10\n"
          ]
        }
      ]
    },
    {
      "cell_type": "code",
      "source": [
        "mx = [val.inpX for val in df_inp.select('inpX').collect()]\n",
        "my = [val.inpY for val in df_inp.select('inpY').collect()]\n",
        "plt.scatter(mx, my, marker='x', color = 'brown')\n",
        "\n",
        "tx = [val.trainX for val in df_train.select('trainX').collect()]\n",
        "ty = [val.trainY for val in df_train.select('trainY').collect()]\n",
        "plt.scatter(tx, ty, marker='p', color = 'blue')\n",
        "\n",
        "# Draw lines to split quadrants\n",
        "plt.plot([min_quadran/2,min_quadran/2],[0,max_quadran], linewidth=1, color='black' )\n",
        "plt.plot([0,min_quadran],[max_quadran/2,max_quadran/2], linewidth=1, color='black' )\n",
        "\n",
        "plt.show()"
      ],
      "metadata": {
        "id": "08TyXRTw8fZM",
        "outputId": "3bd1667d-b5ae-43ed-b040-7d375813388f",
        "colab": {
          "base_uri": "https://localhost:8080/",
          "height": 265
        }
      },
      "execution_count": 380,
      "outputs": [
        {
          "output_type": "display_data",
          "data": {
            "text/plain": [
              "<Figure size 432x288 with 1 Axes>"
            ],
            "image/png": "[encoded data removed]"
          },
          "metadata": {
            "needs_background": "light"
          }
        }
      ]
    },
    {
      "cell_type": "markdown",
      "source": [
        "Get the value for distance range from user"
      ],
      "metadata": {
        "id": "LR-xUX4rl910"
      }
    },
    {
      "cell_type": "code",
      "source": [
        "range_val = 0\n",
        "try:\n",
        "  range_val = int(input(\"Enter your value for range : \"))\n",
        "except ValueError:\n",
        "    print(\"This is not a number\")    "
      ],
      "metadata": {
        "colab": {
          "base_uri": "https://localhost:8080/"
        },
        "id": "CilfUq7_ltfq",
        "outputId": "5c40bb75-59ba-4ad2-8ea1-ae7b20d36519"
      },
      "execution_count": 325,
      "outputs": [
        {
          "name": "stdout",
          "output_type": "stream",
          "text": [
            "Enter your value for range : 2\n"
          ]
        }
      ]
    },
    {
      "cell_type": "markdown",
      "source": [
        "#### Create a function that calculates the distance between two points"
      ],
      "metadata": {
        "id": "qsBYt5yO0wpC"
      }
    },
    {
      "cell_type": "code",
      "source": [
        "# Function to calculate distance between points using Pythagoras' theorem\n",
        "import math\n",
        "def distance(i1 , t1 , i2 , t2):\n",
        " \n",
        "    return math.sqrt(math.pow(i2 - i1, 2) + math.pow(t2 - t1, 2) * 1.0)"
      ],
      "metadata": {
        "id": "H-3q6_cq7QJd"
      },
      "execution_count": 326,
      "outputs": []
    },
    {
      "cell_type": "code",
      "source": [
        "# function to call in order to calculate the points of train that are in range of points of input\n",
        "\n",
        "def check_in_range(i, t, r):\n",
        "\n",
        "  for a in range(i.count()) :\n",
        "   for b in range(t.count()) :\n",
        "    print( '(' , i.collect()[a][0] , i.collect()[a][1] , ')', '-', '(' , t.collect()[b][0] , t.collect()[b][1], ')')\n",
        "    dist = distance(i.collect()[a][1] , i.collect()[a][0] , t.collect()[b][1] , t.collect()[b][0])\n",
        "\n",
        "    if dist <= range_val :\n",
        "      print(\"Points in range :\", dist, \"<=\", r)\n",
        "    else : \n",
        "      print(\"Points out of range :\", dist, \">\", r)\n",
        "    \n",
        "    print(\"----------------------\")"
      ],
      "metadata": {
        "id": "IPy2LNOO7VXn"
      },
      "execution_count": 419,
      "outputs": []
    },
    {
      "cell_type": "markdown",
      "source": [
        "### Now call the functions in order to get the requested results"
      ],
      "metadata": {
        "id": "3GrbqXHI6w2h"
      }
    },
    {
      "cell_type": "code",
      "source": [
        "list_with_range_flag = []\n",
        "check_in_range(df_inp, df_train, range_val)"
      ],
      "metadata": {
        "id": "lL-VlBsG65Uk",
        "outputId": "610ae05e-bfc8-4ad9-c349-b7722f791dbb",
        "colab": {
          "base_uri": "https://localhost:8080/"
        }
      },
      "execution_count": 420,
      "outputs": [
        {
          "output_type": "stream",
          "name": "stdout",
          "text": [
            "( 9 6 ) - ( 2 5 )\n",
            "Points out of range : 7.0710678118654755 > 2\n",
            "----------------------\n",
            "( 9 6 ) - ( 1 4 )\n",
            "Points out of range : 8.246211251235321 > 2\n",
            "----------------------\n",
            "( 9 6 ) - ( 4 2 )\n",
            "Points out of range : 6.4031242374328485 > 2\n",
            "----------------------\n",
            "( 9 6 ) - ( 5 1 )\n",
            "Points out of range : 6.4031242374328485 > 2\n",
            "----------------------\n",
            "( 9 6 ) - ( 3 3 )\n",
            "Points out of range : 6.708203932499369 > 2\n",
            "----------------------\n",
            "( 10 9 ) - ( 2 5 )\n",
            "Points out of range : 8.94427190999916 > 2\n",
            "----------------------\n",
            "( 10 9 ) - ( 1 4 )\n",
            "Points out of range : 10.295630140987 > 2\n",
            "----------------------\n",
            "( 10 9 ) - ( 4 2 )\n",
            "Points out of range : 9.219544457292887 > 2\n",
            "----------------------\n",
            "( 10 9 ) - ( 5 1 )\n",
            "Points out of range : 9.433981132056603 > 2\n",
            "----------------------\n",
            "( 10 9 ) - ( 3 3 )\n",
            "Points out of range : 9.219544457292887 > 2\n",
            "----------------------\n",
            "( 8 2 ) - ( 2 5 )\n",
            "Points out of range : 6.708203932499369 > 2\n",
            "----------------------\n",
            "( 8 2 ) - ( 1 4 )\n",
            "Points out of range : 7.280109889280518 > 2\n",
            "----------------------\n",
            "( 8 2 ) - ( 4 2 )\n",
            "Points out of range : 4.0 > 2\n",
            "----------------------\n",
            "( 8 2 ) - ( 5 1 )\n",
            "Points out of range : 3.1622776601683795 > 2\n",
            "----------------------\n",
            "( 8 2 ) - ( 3 3 )\n",
            "Points out of range : 5.0990195135927845 > 2\n",
            "----------------------\n",
            "( 1 8 ) - ( 2 5 )\n",
            "Points out of range : 3.1622776601683795 > 2\n",
            "----------------------\n",
            "( 1 8 ) - ( 1 4 )\n",
            "Points out of range : 4.0 > 2\n",
            "----------------------\n",
            "( 1 8 ) - ( 4 2 )\n",
            "Points out of range : 6.708203932499369 > 2\n",
            "----------------------\n",
            "( 1 8 ) - ( 5 1 )\n",
            "Points out of range : 8.06225774829855 > 2\n",
            "----------------------\n",
            "( 1 8 ) - ( 3 3 )\n",
            "Points out of range : 5.385164807134504 > 2\n",
            "----------------------\n",
            "( 3 4 ) - ( 2 5 )\n",
            "Points in range : 1.4142135623730951 <= 2\n",
            "----------------------\n",
            "( 3 4 ) - ( 1 4 )\n",
            "Points in range : 2.0 <= 2\n",
            "----------------------\n",
            "( 3 4 ) - ( 4 2 )\n",
            "Points out of range : 2.23606797749979 > 2\n",
            "----------------------\n",
            "( 3 4 ) - ( 5 1 )\n",
            "Points out of range : 3.605551275463989 > 2\n",
            "----------------------\n",
            "( 3 4 ) - ( 3 3 )\n",
            "Points in range : 1.0 <= 2\n",
            "----------------------\n",
            "( 7 7 ) - ( 2 5 )\n",
            "Points out of range : 5.385164807134504 > 2\n",
            "----------------------\n",
            "( 7 7 ) - ( 1 4 )\n",
            "Points out of range : 6.708203932499369 > 2\n",
            "----------------------\n",
            "( 7 7 ) - ( 4 2 )\n",
            "Points out of range : 5.830951894845301 > 2\n",
            "----------------------\n",
            "( 7 7 ) - ( 5 1 )\n",
            "Points out of range : 6.324555320336759 > 2\n",
            "----------------------\n",
            "( 7 7 ) - ( 3 3 )\n",
            "Points out of range : 5.656854249492381 > 2\n",
            "----------------------\n",
            "( 6 10 ) - ( 2 5 )\n",
            "Points out of range : 6.4031242374328485 > 2\n",
            "----------------------\n",
            "( 6 10 ) - ( 1 4 )\n",
            "Points out of range : 7.810249675906654 > 2\n",
            "----------------------\n",
            "( 6 10 ) - ( 4 2 )\n",
            "Points out of range : 8.246211251235321 > 2\n",
            "----------------------\n",
            "( 6 10 ) - ( 5 1 )\n",
            "Points out of range : 9.055385138137417 > 2\n",
            "----------------------\n",
            "( 6 10 ) - ( 3 3 )\n",
            "Points out of range : 7.615773105863909 > 2\n",
            "----------------------\n",
            "( 2 1 ) - ( 2 5 )\n",
            "Points out of range : 4.0 > 2\n",
            "----------------------\n",
            "( 2 1 ) - ( 1 4 )\n",
            "Points out of range : 3.1622776601683795 > 2\n",
            "----------------------\n",
            "( 2 1 ) - ( 4 2 )\n",
            "Points out of range : 2.23606797749979 > 2\n",
            "----------------------\n",
            "( 2 1 ) - ( 5 1 )\n",
            "Points out of range : 3.0 > 2\n",
            "----------------------\n",
            "( 2 1 ) - ( 3 3 )\n",
            "Points out of range : 2.23606797749979 > 2\n",
            "----------------------\n",
            "( 5 3 ) - ( 2 5 )\n",
            "Points out of range : 3.605551275463989 > 2\n",
            "----------------------\n",
            "( 5 3 ) - ( 1 4 )\n",
            "Points out of range : 4.123105625617661 > 2\n",
            "----------------------\n",
            "( 5 3 ) - ( 4 2 )\n",
            "Points in range : 1.4142135623730951 <= 2\n",
            "----------------------\n",
            "( 5 3 ) - ( 5 1 )\n",
            "Points in range : 2.0 <= 2\n",
            "----------------------\n",
            "( 5 3 ) - ( 3 3 )\n",
            "Points in range : 2.0 <= 2\n",
            "----------------------\n",
            "( 4 5 ) - ( 2 5 )\n",
            "Points in range : 2.0 <= 2\n",
            "----------------------\n",
            "( 4 5 ) - ( 1 4 )\n",
            "Points out of range : 3.1622776601683795 > 2\n",
            "----------------------\n",
            "( 4 5 ) - ( 4 2 )\n",
            "Points out of range : 3.0 > 2\n",
            "----------------------\n",
            "( 4 5 ) - ( 5 1 )\n",
            "Points out of range : 4.123105625617661 > 2\n",
            "----------------------\n",
            "( 4 5 ) - ( 3 3 )\n",
            "Points out of range : 2.23606797749979 > 2\n",
            "----------------------\n"
          ]
        }
      ]
    }
  ]
}