{
  "nbformat": 4,
  "nbformat_minor": 0,
  "metadata": {
    "colab": {
      "name": "DistanceJoin.ipynb",
      "provenance": [],
      "collapsed_sections": [],
      "authorship_tag": "ABX9TyP/0vziUmy3yAn5eCIksQN1",
      "include_colab_link": true
    },
    "kernelspec": {
      "name": "python3",
      "display_name": "Python 3"
    },
    "language_info": {
      "name": "python"
    }
  },
  "cells": [
    {
      "cell_type": "markdown",
      "metadata": {
        "id": "view-in-github",
        "colab_type": "text"
      },
      "source": [
        "<a href=\"https://colab.research.google.com/github/spros1/DistanceJoin/blob/main/DistanceJoin.ipynb\" target=\"_parent\"><img src=\"https://colab.research.google.com/assets/colab-badge.svg\" alt=\"Open In Colab\"/></a>"
      ]
    },
    {
      "cell_type": "markdown",
      "source": [
        "###First we need to install everything needed in order to run Python & Apache Spark in Colab\n"
      ],
      "metadata": {
        "id": "IxOtCtC2AF7m"
      }
    },
    {
      "cell_type": "code",
      "source": [
        "# install Java8\n",
        "!apt-get install openjdk-8-jdk-headless -qq > /dev/null"
      ],
      "metadata": {
        "id": "VzUF5N4eAFBW"
      },
      "execution_count": null,
      "outputs": []
    },
    {
      "cell_type": "code",
      "source": [
        "# download spark3.2.1\n",
        "!wget -q https://ftp.cc.uoc.gr/mirrors/apache/spark/spark-3.2.1/spark-3.2.1-bin-hadoop2.7.tgz "
      ],
      "metadata": {
        "id": "svHzX8UeAVum"
      },
      "execution_count": null,
      "outputs": []
    },
    {
      "cell_type": "code",
      "source": [
        "# unzip it\n",
        "!tar xvf spark-3.2.1-bin-hadoop2.7.tgz"
      ],
      "metadata": {
        "id": "R0abKQaoAV8l"
      },
      "execution_count": null,
      "outputs": []
    },
    {
      "cell_type": "code",
      "source": [
        "# install findspark \n",
        "!pip install -q findspark"
      ],
      "metadata": {
        "id": "jw2mHjOKAWFp"
      },
      "execution_count": null,
      "outputs": []
    },
    {
      "cell_type": "code",
      "source": [
        "import os\n",
        "os.environ[\"JAVA_HOME\"] = \"/usr/lib/jvm/java-8-openjdk-amd64\"\n",
        "os.environ[\"SPARK_HOME\"] = \"/content/spark-3.2.1-bin-hadoop2.7\""
      ],
      "metadata": {
        "id": "1S3dyF7BAWMy"
      },
      "execution_count": null,
      "outputs": []
    },
    {
      "cell_type": "markdown",
      "source": [
        "#### A test in order to check that all are ok"
      ],
      "metadata": {
        "id": "VzSgZmRqAhlq"
      }
    },
    {
      "cell_type": "code",
      "source": [
        "import findspark\n",
        "findspark.init()                                               # make pyspark importable as a regular library\n",
        "from pyspark.sql import SparkSession                           # create Spark session\n",
        "spark = SparkSession.builder.master(\"local[*]\").getOrCreate()\n",
        "\n",
        "# Test spark\n",
        "df = spark.createDataFrame([{\"hello\": \"world\"} for x in range(1000)])\n",
        "df.show(5)"
      ],
      "metadata": {
        "colab": {
          "base_uri": "https://localhost:8080/"
        },
        "id": "vj4UQd2vAWTn",
        "outputId": "60ddb682-8c55-40a0-b19f-0b94cb21761f"
      },
      "execution_count": 80,
      "outputs": [
        {
          "output_type": "stream",
          "name": "stdout",
          "text": [
            "+-----+\n",
            "|hello|\n",
            "+-----+\n",
            "|world|\n",
            "|world|\n",
            "|world|\n",
            "|world|\n",
            "|world|\n",
            "+-----+\n",
            "only showing top 5 rows\n",
            "\n"
          ]
        }
      ]
    },
    {
      "cell_type": "markdown",
      "source": [
        "# Now lets start :\n",
        "For two sets given A and B ( with values (ID,X,Y) ) : <br>\n",
        "Find the pairs (a,b), where a in Α and b in Β, \n",
        "to wich it applies : d(a,b) ≤ c, where c parameter given from the user "
      ],
      "metadata": {
        "id": "cEXxpskFv5gj"
      }
    },
    {
      "cell_type": "markdown",
      "source": [
        "### First we are going to make a routine in order to produce two csv files with the number of records that the user will give\n"
      ],
      "metadata": {
        "id": "_Kjaub_FB_3s"
      }
    },
    {
      "cell_type": "code",
      "source": [
        "# imports that are going to be used for the population for our two datasets \n",
        "import random\n",
        "import time\n",
        "import math\n",
        "from random import sample\n",
        "import csv\n",
        "import matplotlib.pyplot as plt\n",
        "import numpy as np\n",
        "from math import sqrt"
      ],
      "metadata": {
        "id": "gEW8kdy04GRy"
      },
      "execution_count": 81,
      "outputs": []
    },
    {
      "cell_type": "code",
      "source": [
        "def get_generated_points( gen_num, csv_name):\n",
        "  \n",
        "  x = random.sample(range(1, gen_num+1), gen_num)\n",
        "  y = random.sample(range(1, gen_num+1), gen_num)\n",
        "\n",
        "  fin_data = list(zip(x,y))\n",
        " \n",
        "# generate csv\n",
        "  with open(csv_name, \"a\") as f:\n",
        "    f.truncate(0)\n",
        "    coords = [map(str, tupl) for tupl in fin_data]\n",
        "    writer = csv.writer(f, delimiter=',')\n",
        "\n",
        "    for line in coords:\n",
        "      writer.writerow(line)\n",
        "\n",
        "# plot it also that \n",
        "  plt.scatter(x, y)\n",
        "  plt.show()\n",
        "\n",
        "  return fin_data"
      ],
      "metadata": {
        "id": "LrtRZbitBu_7"
      },
      "execution_count": 82,
      "outputs": []
    },
    {
      "cell_type": "markdown",
      "source": [
        "#### Now the user must give the max number of points for the two datasets"
      ],
      "metadata": {
        "id": "VfK76d7MKVLH"
      }
    },
    {
      "cell_type": "code",
      "source": [
        "inpCSV_total_points = 0\n",
        "try:\n",
        "  inpCSV_total_points = int(input(\"Enter the max value for csv with inp points : \"))\n",
        "except ValueError:\n",
        "    print(\"This is not a number\")   "
      ],
      "metadata": {
        "colab": {
          "base_uri": "https://localhost:8080/"
        },
        "id": "L-yVh9RYKJqU",
        "outputId": "3ad92d5b-d264-4365-8a3e-ed9f0a6061a7"
      },
      "execution_count": 83,
      "outputs": [
        {
          "name": "stdout",
          "output_type": "stream",
          "text": [
            "Enter the max value for csv with inp points : 100\n"
          ]
        }
      ]
    },
    {
      "cell_type": "code",
      "source": [
        "trainCSV_total_points = 0\n",
        "try:\n",
        "  trainCSV_total_points = int(input(\"Enter the max value for csv with train points : \"))\n",
        "except ValueError:\n",
        "    print(\"This is not a number\")   "
      ],
      "metadata": {
        "colab": {
          "base_uri": "https://localhost:8080/"
        },
        "id": "0XcWZSqmKeKL",
        "outputId": "f3ee125d-9086-4936-aaf0-60c7fe45a6f9"
      },
      "execution_count": 84,
      "outputs": [
        {
          "name": "stdout",
          "output_type": "stream",
          "text": [
            "Enter the max value for csv with train points : 80\n"
          ]
        }
      ]
    },
    {
      "cell_type": "code",
      "source": [
        "# create the input dataset\n",
        "inpPoints = get_generated_points(inpCSV_total_points , 'InputCSV.csv')\n",
        "print(inpPoints)\n",
        "\n",
        "print('\\n')\n",
        "\n",
        "trainPoints = get_generated_points(trainCSV_total_points , 'TrainCSV.csv')\n",
        "print(trainPoints)"
      ],
      "metadata": {
        "colab": {
          "base_uri": "https://localhost:8080/",
          "height": 602
        },
        "id": "3hgD3j0TBqNz",
        "outputId": "5b21b33b-e6a8-4a6b-adbb-6e87a145e496"
      },
      "execution_count": 85,
      "outputs": [
        {
          "output_type": "display_data",
          "data": {
            "text/plain": [
              "<Figure size 432x288 with 1 Axes>"
            ],
            "image/png": "[encoded data removed]"
          },
          "metadata": {
            "needs_background": "light"
          }
        },
        {
          "output_type": "stream",
          "name": "stdout",
          "text": [
            "[(97, 82), (63, 94), (70, 4), (42, 62), (5, 50), (83, 48), (100, 68), (21, 17), (61, 21), (89, 39), (50, 83), (54, 88), (39, 78), (67, 53), (22, 81), (88, 40), (64, 76), (30, 85), (32, 32), (44, 2), (68, 13), (14, 16), (80, 54), (53, 80), (60, 45), (31, 33), (36, 95), (90, 28), (49, 49), (51, 51), (92, 27), (86, 97), (99, 93), (52, 58), (57, 25), (58, 64), (93, 29), (55, 22), (7, 56), (45, 63), (17, 38), (41, 34), (59, 26), (33, 8), (35, 24), (29, 3), (15, 100), (56, 61), (69, 9), (73, 92), (95, 23), (81, 30), (62, 20), (25, 52), (84, 74), (38, 37), (96, 42), (20, 66), (28, 86), (91, 6), (78, 73), (8, 67), (48, 90), (9, 70), (13, 98), (65, 10), (66, 7), (4, 12), (1, 47), (82, 77), (75, 36), (74, 99), (23, 1), (40, 35), (46, 43), (72, 41), (37, 19), (2, 69), (98, 5), (79, 75), (19, 46), (6, 18), (47, 57), (11, 44), (18, 84), (10, 71), (87, 89), (34, 72), (16, 55), (12, 31), (3, 96), (94, 91), (77, 87), (24, 15), (43, 65), (27, 11), (76, 79), (26, 59), (85, 60), (71, 14)]\n",
            "\n",
            "\n"
          ]
        },
        {
          "output_type": "display_data",
          "data": {
            "text/plain": [
              "<Figure size 432x288 with 1 Axes>"
            ],
            "image/png": "[encoded data removed]"
          },
          "metadata": {
            "needs_background": "light"
          }
        },
        {
          "output_type": "stream",
          "name": "stdout",
          "text": [
            "[(42, 43), (75, 51), (5, 41), (44, 49), (54, 54), (70, 53), (29, 64), (67, 23), (69, 78), (24, 60), (35, 62), (14, 18), (47, 6), (36, 9), (20, 37), (9, 1), (26, 42), (37, 72), (21, 61), (3, 2), (74, 22), (18, 33), (32, 10), (30, 50), (80, 77), (60, 3), (66, 15), (78, 68), (59, 44), (53, 70), (17, 63), (27, 69), (40, 16), (55, 66), (49, 65), (45, 4), (4, 38), (25, 40), (73, 79), (58, 46), (23, 29), (38, 28), (71, 25), (41, 32), (11, 57), (7, 34), (28, 36), (10, 19), (33, 7), (19, 35), (79, 39), (61, 59), (52, 73), (68, 30), (15, 80), (77, 26), (31, 75), (65, 24), (64, 20), (48, 56), (62, 76), (8, 21), (50, 58), (72, 52), (43, 27), (57, 5), (6, 8), (76, 13), (39, 17), (2, 12), (12, 71), (22, 11), (1, 67), (34, 31), (13, 47), (16, 45), (51, 48), (46, 74), (63, 14), (56, 55)]\n"
          ]
        }
      ]
    },
    {
      "cell_type": "markdown",
      "source": [
        "### Read from the two csvs the data\n",
        "(from the two we create or other , it is the same just change the name of input file)\n"
      ],
      "metadata": {
        "id": "Grz8kKWyroOA"
      }
    },
    {
      "cell_type": "code",
      "execution_count": 120,
      "metadata": {
        "id": "xBle1FUSkXMP"
      },
      "outputs": [],
      "source": [
        "# importing the required module\n",
        "from pyspark.sql           import SparkSession\n",
        "from pyspark.sql           import functions as F\n",
        "from pyspark.sql.functions import lit,col,concat, spark_partition_id, asc, desc\n",
        "from pyspark.sql.types     import StringType, ArrayType\n",
        "import os"
      ]
    },
    {
      "cell_type": "code",
      "source": [
        "# give the path of input and train file to read \n",
        "inpFile   = \"InputCSV.csv\" \n",
        "trainFile = \"TrainCSV.csv\""
      ],
      "metadata": {
        "id": "KkYTgCC8QJmy"
      },
      "execution_count": 87,
      "outputs": []
    },
    {
      "cell_type": "code",
      "source": [
        "# Initialize Spark session\n",
        "t0 = int(round(time.time() * 1000))"
      ],
      "metadata": {
        "id": "HwvyuECSzli_"
      },
      "execution_count": 88,
      "outputs": []
    },
    {
      "cell_type": "code",
      "source": [
        "spark = SparkSession.builder.appName(\"CSV\").master(\"local\").getOrCreate()             # Creates a session on a local master\n"
      ],
      "metadata": {
        "id": "_eHHJq9Vl1SL"
      },
      "execution_count": 89,
      "outputs": []
    },
    {
      "cell_type": "code",
      "source": [
        "t1 = int(round(time.time() * 1000))\n",
        "\n",
        "print(\"Session initialized in {} ms\".format(t1 - t0))"
      ],
      "metadata": {
        "colab": {
          "base_uri": "https://localhost:8080/"
        },
        "id": "SmIge-J3zzZL",
        "outputId": "dfa0a001-2e4c-45da-899a-14e6fe2c113f"
      },
      "execution_count": 90,
      "outputs": [
        {
          "output_type": "stream",
          "name": "stdout",
          "text": [
            "Session initialized in 2970 ms\n"
          ]
        }
      ]
    },
    {
      "cell_type": "code",
      "source": [
        "df_inp   = spark.read.csv(inferSchema=True, path=inpFile).toDF(\"inpX\"  ,\"inpY\"  )     # Reads input CSV file with no header, in a dataframe\n",
        "df_train = spark.read.csv(inferSchema=True, path=trainFile).toDF(\"trainX\",\"trainY\")   # Reads train CSV file with no header, in a dataframe"
      ],
      "metadata": {
        "id": "4ovFQfXdzzdL"
      },
      "execution_count": 91,
      "outputs": []
    },
    {
      "cell_type": "code",
      "source": [
        "t2 = int(round(time.time() * 1000))\n",
        "print(\"Initial dataframe built in {} ms\".format(t2 - t1))"
      ],
      "metadata": {
        "colab": {
          "base_uri": "https://localhost:8080/"
        },
        "id": "sWp0CCC-0FqN",
        "outputId": "4ee6175b-6033-41ac-9442-549c1c789c39"
      },
      "execution_count": 92,
      "outputs": [
        {
          "output_type": "stream",
          "name": "stdout",
          "text": [
            "Initial dataframe built in 2733 ms\n"
          ]
        }
      ]
    },
    {
      "cell_type": "code",
      "source": [
        "print(\"*** Right after ingestion ***\")\n",
        "\n",
        "df_inp.show(5)\n",
        "print(\"We have {} input records.\".format(df_inp.count()))\n",
        "\n",
        "print('\\n')\n",
        "\n",
        "df_train.show(5)\n",
        "print(\"We have {} train records.\".format(df_train.count()))"
      ],
      "metadata": {
        "colab": {
          "base_uri": "https://localhost:8080/"
        },
        "id": "wOtFXlFJM75F",
        "outputId": "ca7ad9ad-a13e-4653-9513-e3a1a55fca2f"
      },
      "execution_count": 93,
      "outputs": [
        {
          "output_type": "stream",
          "name": "stdout",
          "text": [
            "*** Right after ingestion ***\n",
            "+----+----+\n",
            "|inpX|inpY|\n",
            "+----+----+\n",
            "|  97|  82|\n",
            "|  63|  94|\n",
            "|  70|   4|\n",
            "|  42|  62|\n",
            "|   5|  50|\n",
            "+----+----+\n",
            "only showing top 5 rows\n",
            "\n",
            "We have 100 input records.\n",
            "\n",
            "\n",
            "+------+------+\n",
            "|trainX|trainY|\n",
            "+------+------+\n",
            "|    42|    43|\n",
            "|    75|    51|\n",
            "|     5|    41|\n",
            "|    44|    49|\n",
            "|    54|    54|\n",
            "+------+------+\n",
            "only showing top 5 rows\n",
            "\n",
            "We have 80 train records.\n"
          ]
        }
      ]
    },
    {
      "cell_type": "code",
      "source": [
        "# Print the schema to standard output (stdout) by using printSchema().\n",
        "df_inp.printSchema()\n",
        "df_train.printSchema()"
      ],
      "metadata": {
        "colab": {
          "base_uri": "https://localhost:8080/"
        },
        "id": "gqoXl9_nM_Gt",
        "outputId": "7c950b26-a3ce-44ed-e464-158fd41aa38e"
      },
      "execution_count": 94,
      "outputs": [
        {
          "output_type": "stream",
          "name": "stdout",
          "text": [
            "root\n",
            " |-- inpX: integer (nullable = true)\n",
            " |-- inpY: integer (nullable = true)\n",
            "\n",
            "root\n",
            " |-- trainX: integer (nullable = true)\n",
            " |-- trainY: integer (nullable = true)\n",
            "\n"
          ]
        }
      ]
    },
    {
      "cell_type": "markdown",
      "source": [
        "### Find min & max x y for both datasets, and for total (limits of grid)\n"
      ],
      "metadata": {
        "id": "MvJ7EbhIH_Tn"
      }
    },
    {
      "cell_type": "code",
      "source": [
        "def dfMaxMin(dtf,columnNamex,columnNamey ): \n",
        "\n",
        "  dtf_X_Min = dtf.agg({columnNamex: 'min'}).collect()[0][0]\n",
        "  dtf_X_Max = dtf.agg({columnNamex: 'max'}).collect()[0][0]\n",
        "  dtf_Y_Min = dtf.agg({columnNamey: 'min'}).collect()[0][0]\n",
        "  dtf_Y_Max = dtf.agg({columnNamey: 'max'}).collect()[0][0]\n",
        "\n",
        "  return dtf_X_Min, dtf_X_Max, dtf_Y_Min, dtf_Y_Max"
      ],
      "metadata": {
        "id": "f3pLzO7eIO4w"
      },
      "execution_count": 95,
      "outputs": []
    },
    {
      "cell_type": "code",
      "source": [
        "# call function to find min max per dataframe\n",
        "minX_inp,maxX_inp,minY_inp,maxY_inp = dfMaxMin(df_inp, 'inpX', 'inpY')\n",
        "print( minX_inp,maxX_inp, '-', minY_inp,maxY_inp )\n",
        "\n",
        "minX_trn,maxX_trn, minY_trn,maxY_trn  = dfMaxMin(df_train, 'trainX', 'trainY')\n",
        "print( minX_trn,maxX_trn, '-', minY_trn,maxY_trn )"
      ],
      "metadata": {
        "id": "G0g0G0VXI2o7",
        "outputId": "bd449370-a3d1-409c-b928-fbc999be5dea",
        "colab": {
          "base_uri": "https://localhost:8080/"
        }
      },
      "execution_count": 96,
      "outputs": [
        {
          "output_type": "stream",
          "name": "stdout",
          "text": [
            "1 100 - 1 100\n",
            "1 80 - 1 80\n"
          ]
        }
      ]
    },
    {
      "cell_type": "code",
      "source": [
        "# last find totam min max \n",
        "min_quadranX = (min(minX_inp,minX_trn))\n",
        "max_quadranX = (max(maxX_inp,maxX_trn))\n",
        "\n",
        "min_quadranY = (max(minY_inp,minY_trn))\n",
        "max_quadranY = (max(maxY_inp,maxY_trn))\n",
        "\n",
        "print(min_quadranX, max_quadranX, '-', min_quadranY, max_quadranY )\n"
      ],
      "metadata": {
        "id": "h3l2p_HmKfL9",
        "outputId": "d8e83c3c-d57a-4eab-f9d3-b588f3080ce1",
        "colab": {
          "base_uri": "https://localhost:8080/"
        }
      },
      "execution_count": 97,
      "outputs": [
        {
          "output_type": "stream",
          "name": "stdout",
          "text": [
            "1 100 - 1 100\n"
          ]
        }
      ]
    },
    {
      "cell_type": "markdown",
      "source": [
        "### Plot the points ( inp -> o , train -> x )"
      ],
      "metadata": {
        "id": "7Hve7t1Qrxc4"
      }
    },
    {
      "cell_type": "code",
      "source": [
        "mx = [val.inpX for val in df_inp.select('inpX').collect()]\n",
        "my = [val.inpY for val in df_inp.select('inpY').collect()]\n",
        "plt.scatter(mx, my, marker='x', color = 'brown')\n",
        "\n",
        "tx = [val.trainX for val in df_train.select('trainX').collect()]\n",
        "ty = [val.trainY for val in df_train.select('trainY').collect()]\n",
        "plt.scatter(tx, ty, marker='p', color = 'blue')\n",
        "\n",
        "plt.show()"
      ],
      "metadata": {
        "id": "08TyXRTw8fZM",
        "outputId": "f42ca58b-2071-4fd9-cbeb-737fe1415a2c",
        "colab": {
          "base_uri": "https://localhost:8080/",
          "height": 265
        }
      },
      "execution_count": 98,
      "outputs": [
        {
          "output_type": "display_data",
          "data": {
            "text/plain": [
              "<Figure size 432x288 with 1 Axes>"
            ],
            "image/png": "[encoded data removed]"
          },
          "metadata": {
            "needs_background": "light"
          }
        }
      ]
    },
    {
      "cell_type": "markdown",
      "source": [
        "Get the value for distance range from user"
      ],
      "metadata": {
        "id": "LR-xUX4rl910"
      }
    },
    {
      "cell_type": "code",
      "source": [
        "range_val = 0\n",
        "try:\n",
        "  range_val = float(input(\"Enter the value for distance between the points: \"))\n",
        "except ValueError:\n",
        "    print(\"This is not a number\")    "
      ],
      "metadata": {
        "colab": {
          "base_uri": "https://localhost:8080/"
        },
        "id": "CilfUq7_ltfq",
        "outputId": "02f3b195-1690-43f6-cfc4-0c836cda515b"
      },
      "execution_count": 99,
      "outputs": [
        {
          "name": "stdout",
          "output_type": "stream",
          "text": [
            "Enter the value for distance between the points: 1\n"
          ]
        }
      ]
    },
    {
      "cell_type": "markdown",
      "source": [
        "### We are going to find the size for the cells that the grid will split"
      ],
      "metadata": {
        "id": "uATC-RVmMiyn"
      }
    },
    {
      "cell_type": "code",
      "source": [
        "total_splits = 0\n",
        "try:\n",
        "  total_splits = int(input(\"Enter the value for splits: \"))\n",
        "except ValueError:\n",
        "    print(\"This is not a number\")  "
      ],
      "metadata": {
        "id": "tiUgmi8NNxo2",
        "outputId": "f15f6f50-480d-4d2c-f6a3-762ba3f3023a",
        "colab": {
          "base_uri": "https://localhost:8080/"
        }
      },
      "execution_count": 100,
      "outputs": [
        {
          "name": "stdout",
          "output_type": "stream",
          "text": [
            "Enter the value for splits: 20\n"
          ]
        }
      ]
    },
    {
      "cell_type": "code",
      "source": [
        "dimension_x = abs((max_quadranX - min_quadranX)) / total_splits\n",
        "dimension_y = abs((max_quadranY - min_quadranY)) / total_splits\n",
        "\n",
        "print(dimension_x, dimension_y)"
      ],
      "metadata": {
        "id": "IraQTzo6NELx",
        "outputId": "32051a41-fc28-4d82-d67a-d73eff52c119",
        "colab": {
          "base_uri": "https://localhost:8080/"
        }
      },
      "execution_count": 101,
      "outputs": [
        {
          "output_type": "stream",
          "name": "stdout",
          "text": [
            "4.95 4.95\n"
          ]
        }
      ]
    },
    {
      "cell_type": "markdown",
      "source": [
        "#### As the next step we will generate two more dataframes same as the previous with the addition of a column that will hold the value of the cellid that the point x,y belongs to, and also one final dataframe with the addition of a column holding the neighbors\n"
      ],
      "metadata": {
        "id": "hJmv1C9Z1-Oq"
      }
    },
    {
      "cell_type": "code",
      "source": [
        "# we are going to use struct function in order to produce the new column.\n",
        "df_inp_splitted = df_inp.withColumn(\"cid\",\n",
        "                                F.struct( ( (df_inp['inpX']  - min_quadranX) / dimension_x).cast(\"Integer\"),\n",
        "                                          ( (df_inp['inpY']  - min_quadranY) / dimension_y).cast(\"Integer\") ) \n",
        "                                )\n",
        "\n",
        "df_inp_splitted.show()\n",
        "\n",
        "\n",
        "df_train_splitted = df_train.withColumn(\"cid\",\n",
        "                                F.struct( ( (df_train['trainX']  - min_quadranX) / dimension_x).cast(\"Integer\"),\n",
        "                                          ( (df_train['trainY']  - min_quadranY) / dimension_y).cast(\"Integer\") ) \n",
        "                                )\n",
        "\n",
        "df_train_splitted.show()"
      ],
      "metadata": {
        "colab": {
          "base_uri": "https://localhost:8080/"
        },
        "id": "mL778zNX2PyF",
        "outputId": "8ff54beb-fc46-486a-8d5d-9bc57974ab49"
      },
      "execution_count": 102,
      "outputs": [
        {
          "output_type": "stream",
          "name": "stdout",
          "text": [
            "+----+----+--------+\n",
            "|inpX|inpY|     cid|\n",
            "+----+----+--------+\n",
            "|  97|  82|{19, 16}|\n",
            "|  63|  94|{12, 18}|\n",
            "|  70|   4| {13, 0}|\n",
            "|  42|  62| {8, 12}|\n",
            "|   5|  50|  {0, 9}|\n",
            "|  83|  48| {16, 9}|\n",
            "| 100|  68|{20, 13}|\n",
            "|  21|  17|  {4, 3}|\n",
            "|  61|  21| {12, 4}|\n",
            "|  89|  39| {17, 7}|\n",
            "|  50|  83| {9, 16}|\n",
            "|  54|  88|{10, 17}|\n",
            "|  39|  78| {7, 15}|\n",
            "|  67|  53|{13, 10}|\n",
            "|  22|  81| {4, 16}|\n",
            "|  88|  40| {17, 7}|\n",
            "|  64|  76|{12, 15}|\n",
            "|  30|  85| {5, 16}|\n",
            "|  32|  32|  {6, 6}|\n",
            "|  44|   2|  {8, 0}|\n",
            "+----+----+--------+\n",
            "only showing top 20 rows\n",
            "\n",
            "+------+------+--------+\n",
            "|trainX|trainY|     cid|\n",
            "+------+------+--------+\n",
            "|    42|    43|  {8, 8}|\n",
            "|    75|    51|{14, 10}|\n",
            "|     5|    41|  {0, 8}|\n",
            "|    44|    49|  {8, 9}|\n",
            "|    54|    54|{10, 10}|\n",
            "|    70|    53|{13, 10}|\n",
            "|    29|    64| {5, 12}|\n",
            "|    67|    23| {13, 4}|\n",
            "|    69|    78|{13, 15}|\n",
            "|    24|    60| {4, 11}|\n",
            "|    35|    62| {6, 12}|\n",
            "|    14|    18|  {2, 3}|\n",
            "|    47|     6|  {9, 1}|\n",
            "|    36|     9|  {7, 1}|\n",
            "|    20|    37|  {3, 7}|\n",
            "|     9|     1|  {1, 0}|\n",
            "|    26|    42|  {5, 8}|\n",
            "|    37|    72| {7, 14}|\n",
            "|    21|    61| {4, 12}|\n",
            "|     3|     2|  {0, 0}|\n",
            "+------+------+--------+\n",
            "only showing top 20 rows\n",
            "\n"
          ]
        }
      ]
    },
    {
      "cell_type": "markdown",
      "source": [
        "#### As the cell_id's created for each point at both dataframes we can proceed to find the given cell_id for the Neighbors points\n"
      ],
      "metadata": {
        "id": "dcHpQKAcTCkm"
      }
    },
    {
      "cell_type": "markdown",
      "source": [
        "##### First the creation of functions that are going to be used "
      ],
      "metadata": {
        "id": "72BDk58WaAu_"
      }
    },
    {
      "cell_type": "code",
      "source": [
        "## function in order to find the points that are close\n",
        "def find_close_points(cid):\n",
        "\n",
        "  # initialize parameters\n",
        "    X            = total_splits-1\n",
        "    Y            = total_splits-1\n",
        "    c_x          = cid[0]\n",
        "    c_y          = cid[1]\n",
        "    closePoints  = []\n",
        "\n",
        "  # start the loops in order to characterize the relationship between the points \n",
        "    for x2 in range(c_x-1, c_x+2):\n",
        "        for y2 in range(c_y-1, c_y+2):\n",
        "\n",
        "           if (    ( 0 <= c_x <= X )\n",
        "               and ( 0 <= c_y <= Y ) \n",
        "               and ( 0 <= x2  <= X ) \n",
        "               and ( 0 <= y2  <= Y )\n",
        "               and (    c_x  != x2\n",
        "                     or c_y  != y2)  ):\n",
        "             \n",
        "             # T -> Top\n",
        "             # B -> Bottom\n",
        "                if x2 == c_x:\n",
        "                  if y2 > c_y:\n",
        "                    pos = 'T'\n",
        "                  else:\n",
        "                    pos = 'B'\n",
        "\n",
        "             # R -> Right \n",
        "             # L -> Left\n",
        "                if y2 == c_y:\n",
        "                  if x2 > c_x:\n",
        "                    pos = 'R'\n",
        "                  else: \n",
        "                    pos = 'L'\n",
        "\n",
        "             # TR -> Top right\n",
        "             # BR -> Bottom right\n",
        "                if x2 > c_x:\n",
        "                  if y2 > c_y:\n",
        "                    pos = 'TR'\n",
        "                  elif y2 < c_y:\n",
        "                    pos = 'BR'\n",
        "\n",
        "             # TL -> Top left\n",
        "             # BL -> Bottom left\n",
        "                if x2 < c_x:\n",
        "                  if y2 > c_y:\n",
        "                    pos = 'TL'\n",
        "                  elif y2 < c_y:\n",
        "                    pos = 'BL' \n",
        "                \n",
        "                closePoints.append((x2, y2, pos))\n",
        "                \n",
        "    return closePoints"
      ],
      "metadata": {
        "id": "svEtI9o9PiEi"
      },
      "execution_count": 103,
      "outputs": []
    },
    {
      "cell_type": "code",
      "source": [
        "# UDF declares that this is a user defined function\n",
        "find_neighbors_udf = F.udf(find_close_points, ArrayType(ArrayType(StringType())))"
      ],
      "metadata": {
        "id": "9d4OWenufL0g"
      },
      "execution_count": 104,
      "outputs": []
    },
    {
      "cell_type": "code",
      "source": [
        "## create new dataframe that holds also the relationship between neighbors\n",
        "df_inp_splitted_with_rela = df_inp_splitted.withColumn('Nghbr', find_neighbors_udf(df_inp_splitted['cid']))\n",
        "\n",
        "df_inp_splitted_with_rela.show()"
      ],
      "metadata": {
        "colab": {
          "base_uri": "https://localhost:8080/"
        },
        "id": "sdTK7yyoPiKx",
        "outputId": "9785cc9a-43dc-4f90-f4c0-f72bfeb4f2a2"
      },
      "execution_count": 105,
      "outputs": [
        {
          "output_type": "stream",
          "name": "stdout",
          "text": [
            "+----+----+--------+--------------------+\n",
            "|inpX|inpY|     cid|               Nghbr|\n",
            "+----+----+--------+--------------------+\n",
            "|  97|  82|{19, 16}|[[18, 15, BL], [1...|\n",
            "|  63|  94|{12, 18}|[[11, 17, BL], [1...|\n",
            "|  70|   4| {13, 0}|[[12, 0, L], [12,...|\n",
            "|  42|  62| {8, 12}|[[7, 11, BL], [7,...|\n",
            "|   5|  50|  {0, 9}|[[0, 8, B], [0, 1...|\n",
            "|  83|  48| {16, 9}|[[15, 8, BL], [15...|\n",
            "| 100|  68|{20, 13}|                  []|\n",
            "|  21|  17|  {4, 3}|[[3, 2, BL], [3, ...|\n",
            "|  61|  21| {12, 4}|[[11, 3, BL], [11...|\n",
            "|  89|  39| {17, 7}|[[16, 6, BL], [16...|\n",
            "|  50|  83| {9, 16}|[[8, 15, BL], [8,...|\n",
            "|  54|  88|{10, 17}|[[9, 16, BL], [9,...|\n",
            "|  39|  78| {7, 15}|[[6, 14, BL], [6,...|\n",
            "|  67|  53|{13, 10}|[[12, 9, BL], [12...|\n",
            "|  22|  81| {4, 16}|[[3, 15, BL], [3,...|\n",
            "|  88|  40| {17, 7}|[[16, 6, BL], [16...|\n",
            "|  64|  76|{12, 15}|[[11, 14, BL], [1...|\n",
            "|  30|  85| {5, 16}|[[4, 15, BL], [4,...|\n",
            "|  32|  32|  {6, 6}|[[5, 5, BL], [5, ...|\n",
            "|  44|   2|  {8, 0}|[[7, 0, L], [7, 1...|\n",
            "+----+----+--------+--------------------+\n",
            "only showing top 20 rows\n",
            "\n"
          ]
        }
      ]
    },
    {
      "cell_type": "code",
      "source": [
        "## Function \"extendpoints\" makes copy of points that are close enough with neighbor cells\n",
        "def extendpoints(data):\n",
        "\n",
        "   # initialize parameters\n",
        "    min_x       = float(data[0])\n",
        "    max_x       = float(data[1])\n",
        "    min_y       = float(data[2])\n",
        "    max_y       = float(data[3])\n",
        "    dimension_x = float(data[4])\n",
        "    dimension_y = float(data[5])\n",
        "    cell_id     = data[6]\n",
        "    nei         = data[7]\n",
        "    x           = float(data[8])\n",
        "    y           = float(data[9])\n",
        "    r           = float(data[10])\n",
        "    cell_x      = cell_id[0]\n",
        "    cell_y      = cell_id[1]\n",
        "\n",
        "    # Calculate current cell bounds\n",
        "    bound_u_y = min_y + ((cell_y+1) * dimension_y)\n",
        "    bound_d_y = min_y + ((cell_y)   * dimension_y)\n",
        "    bound_r_x = min_x + ((cell_x+1) * dimension_x)\n",
        "    bound_l_x = min_x + ((cell_x)   * dimension_x)\n",
        "\n",
        "    dupl_to = [(cell_x, cell_y)]\n",
        "\n",
        "    # For each neighbor point \n",
        "    for n in nei:\n",
        "        print(n)\n",
        "        print(n[2])\n",
        "        n_idx = int(n[0])\n",
        "        n_idy = int(n[1])\n",
        "        n_pos = n[2]\n",
        "\n",
        "\n",
        "        if ( n_pos == 'T' ) and ( y + r > bound_u_y ) :\n",
        "                dupl_to.append((n_idx, n_idy))\n",
        "        elif ( n_pos == 'TR' ) and (sqrt((bound_r_x-x)**2 + (bound_u_y-y)**2) < r) :\n",
        "                dupl_to.append((n_idx, n_idy))\n",
        "        elif ( n_pos == 'R' ) and ( x + r > bound_r_x ) :\n",
        "                dupl_to.append((n_idx, n_idy))\n",
        "        elif ( n_pos == 'BR' ) and (sqrt((bound_r_x-x)**2 + (bound_d_y-y)**2) < r) :\n",
        "                dupl_to.append((n_idx, n_idy))\n",
        "        elif ( n_pos == 'B' ) and ( y - r < bound_d_y) :\n",
        "                dupl_to.append((n_idx, n_idy))\n",
        "        elif ( n_pos == 'BL' ) and (sqrt((bound_l_x-x)**2 + (bound_d_y-y)**2) < r) :\n",
        "                dupl_to.append((n_idx, n_idy))\n",
        "        elif ( n_pos == 'L' ) and ( x - r < bound_l_x) :\n",
        "                dupl_to.append((n_idx, n_idy))\n",
        "        elif ( n_pos == 'TL' ) and (sqrt((bound_l_x-x)**2 + (bound_u_y-y)**2) < r) :\n",
        "                dupl_to.append((n_idx, n_idy))\n",
        "\n",
        "    return tuple(dupl_to)\n"
      ],
      "metadata": {
        "id": "k2_c_pJ1PiNb"
      },
      "execution_count": 106,
      "outputs": []
    },
    {
      "cell_type": "code",
      "source": [
        "# declare as udf function\n",
        "extendpoints_to_udf = F.udf(extendpoints, ArrayType(ArrayType(StringType())))"
      ],
      "metadata": {
        "id": "U165Ozyke_cY"
      },
      "execution_count": 107,
      "outputs": []
    },
    {
      "cell_type": "code",
      "source": [
        "#Create new DataFrame with new column with close points\n",
        "df_inp_splitted_with_rela_and_dupl = df_inp_splitted_with_rela.withColumn('dupl',\n",
        "                                                      F.explode(extendpoints_to_udf(F.struct(F.lit(min_quadranX)                   ,\n",
        "                                                                                             F.lit(max_quadranX)                   ,\n",
        "                                                                                             F.lit(min_quadranY)                   ,\n",
        "                                                                                             F.lit(max_quadranY)                   ,\n",
        "                                                                                             F.lit(dimension_x)                    ,\n",
        "                                                                                             F.lit(dimension_y)                    ,\n",
        "                                                                                             df_inp_splitted_with_rela[\"cid\"]      ,\n",
        "                                                                                             df_inp_splitted_with_rela[\"Nghbr\"]    ,\n",
        "                                                                                             df_inp_splitted_with_rela[\"inpX\"]     , \n",
        "                                                                                             df_inp_splitted_with_rela[\"inpY\"]     ,\n",
        "                                                                                             F.lit(range_val)\n",
        "                                                                                             )\n",
        "                                                                                     )\n",
        "                                                              )\n",
        "                                                      )\n",
        "df_inp_splitted_with_rela_and_dupl.show()\n",
        "df_inp_splitted_with_rela_and_dupl.count()"
      ],
      "metadata": {
        "colab": {
          "base_uri": "https://localhost:8080/"
        },
        "id": "UjQv82NVPiP0",
        "outputId": "b6785228-89f3-4ca7-b845-35fe7baec3dd"
      },
      "execution_count": 108,
      "outputs": [
        {
          "output_type": "stream",
          "name": "stdout",
          "text": [
            "+----+----+--------+--------------------+--------+\n",
            "|inpX|inpY|     cid|               Nghbr|    dupl|\n",
            "+----+----+--------+--------------------+--------+\n",
            "|  97|  82|{19, 16}|[[18, 15, BL], [1...|[19, 16]|\n",
            "|  63|  94|{12, 18}|[[11, 17, BL], [1...|[12, 18]|\n",
            "|  70|   4| {13, 0}|[[12, 0, L], [12,...| [13, 0]|\n",
            "|  70|   4| {13, 0}|[[12, 0, L], [12,...| [14, 0]|\n",
            "|  42|  62| {8, 12}|[[7, 11, BL], [7,...| [8, 12]|\n",
            "|   5|  50|  {0, 9}|[[0, 8, B], [0, 1...|  [0, 9]|\n",
            "|   5|  50|  {0, 9}|[[0, 8, B], [0, 1...| [0, 10]|\n",
            "|   5|  50|  {0, 9}|[[0, 8, B], [0, 1...|  [1, 9]|\n",
            "|  83|  48| {16, 9}|[[15, 8, BL], [15...| [16, 9]|\n",
            "| 100|  68|{20, 13}|                  []|[20, 13]|\n",
            "|  21|  17|  {4, 3}|[[3, 2, BL], [3, ...|  [4, 3]|\n",
            "|  21|  17|  {4, 3}|[[3, 2, BL], [3, ...|  [3, 3]|\n",
            "|  61|  21| {12, 4}|[[11, 3, BL], [11...| [12, 4]|\n",
            "|  61|  21| {12, 4}|[[11, 3, BL], [11...| [11, 3]|\n",
            "|  61|  21| {12, 4}|[[11, 3, BL], [11...| [11, 4]|\n",
            "|  61|  21| {12, 4}|[[11, 3, BL], [11...| [12, 3]|\n",
            "|  89|  39| {17, 7}|[[16, 6, BL], [16...| [17, 7]|\n",
            "|  50|  83| {9, 16}|[[8, 15, BL], [8,...| [9, 16]|\n",
            "|  50|  83| {9, 16}|[[8, 15, BL], [8,...|[10, 16]|\n",
            "|  54|  88|{10, 17}|[[9, 16, BL], [9,...|[10, 17]|\n",
            "+----+----+--------+--------------------+--------+\n",
            "only showing top 20 rows\n",
            "\n"
          ]
        },
        {
          "output_type": "execute_result",
          "data": {
            "text/plain": [
              "187"
            ]
          },
          "metadata": {},
          "execution_count": 108
        }
      ]
    },
    {
      "cell_type": "markdown",
      "source": [
        " Replace the local temporary views"
      ],
      "metadata": {
        "id": "3Caw4QTMSQg_"
      }
    },
    {
      "cell_type": "code",
      "source": [
        "df_inp_splitted.createOrReplaceTempView(\"df_inp_splitted\")\n",
        "df_train_splitted.createOrReplaceTempView(\"df_train_splitted\")"
      ],
      "metadata": {
        "id": "zlFRZ_xDPiSY"
      },
      "execution_count": 109,
      "outputs": []
    },
    {
      "cell_type": "markdown",
      "source": [
        "Count the number of points that each cell_id has "
      ],
      "metadata": {
        "id": "kpOOhIUETBeN"
      }
    },
    {
      "cell_type": "code",
      "source": [
        "# groupby each cell_id and count (for df_inp after duplication)\n",
        "df_inp_cid_cnt = df_inp_splitted_with_rela_and_dupl.groupBy(\"dupl\").count()\n",
        "df_inp_cid_cnt.show()\n",
        "\n",
        "# groupby each cell_id and count (for df_train after duplication)\n",
        "df_train_cid_cnt = df_train_splitted.groupBy(\"cid\").count()\n",
        "df_train_cid_cnt.show()"
      ],
      "metadata": {
        "colab": {
          "base_uri": "https://localhost:8080/"
        },
        "id": "YSU18sJFPiUu",
        "outputId": "159ba717-f0cd-4d47-9a0c-a2701cf5924d"
      },
      "execution_count": 110,
      "outputs": [
        {
          "output_type": "stream",
          "name": "stdout",
          "text": [
            "+--------+-----+\n",
            "|    dupl|count|\n",
            "+--------+-----+\n",
            "| [5, 10]|    1|\n",
            "|[10, 16]|    2|\n",
            "|[15, 15]|    2|\n",
            "| [17, 7]|    2|\n",
            "|  [4, 2]|    1|\n",
            "|[16, 14]|    1|\n",
            "| [3, 10]|    1|\n",
            "|[19, 16]|    1|\n",
            "|  [3, 8]|    1|\n",
            "|[18, 18]|    1|\n",
            "| [1, 11]|    1|\n",
            "| [19, 8]|    1|\n",
            "|[15, 17]|    1|\n",
            "|  [5, 1]|    1|\n",
            "|[17, 17]|    1|\n",
            "|  [2, 8]|    1|\n",
            "| [0, 19]|    1|\n",
            "|  [2, 3]|    1|\n",
            "| [3, 12]|    1|\n",
            "|[10, 12]|    1|\n",
            "+--------+-----+\n",
            "only showing top 20 rows\n",
            "\n",
            "+--------+-----+\n",
            "|     cid|count|\n",
            "+--------+-----+\n",
            "|{13, 10}|    1|\n",
            "|  {1, 0}|    1|\n",
            "|  {6, 1}|    2|\n",
            "|{15, 15}|    1|\n",
            "|  {8, 9}|    1|\n",
            "| {0, 13}|    1|\n",
            "| {7, 14}|    1|\n",
            "| {11, 8}|    1|\n",
            "|  {2, 3}|    1|\n",
            "|  {7, 1}|    1|\n",
            "|  {4, 7}|    1|\n",
            "| {12, 2}|    1|\n",
            "|  {0, 7}|    1|\n",
            "|  {9, 1}|    1|\n",
            "|{13, 15}|    1|\n",
            "|{10, 13}|    2|\n",
            "|{14, 15}|    1|\n",
            "|  {5, 7}|    1|\n",
            "| {15, 5}|    1|\n",
            "| {4, 11}|    1|\n",
            "+--------+-----+\n",
            "only showing top 20 rows\n",
            "\n"
          ]
        }
      ]
    },
    {
      "cell_type": "markdown",
      "source": [
        "Create DataFrame with each point and the cell_id that is contained (about df_inp)"
      ],
      "metadata": {
        "id": "4GrqrxbyT_jc"
      }
    },
    {
      "cell_type": "code",
      "source": [
        "df_inp_total = df_inp_splitted_with_rela_and_dupl.drop('cid', 'Nghbr')\n",
        "final_df_inp = df_inp_total.withColumnRenamed(\"dupl\",\"cid\").withColumn(\"Dataset\", F.lit(\"df_inp\"))\n",
        "\n",
        "final_df_inp.printSchema()\n",
        "final_df_inp.show()"
      ],
      "metadata": {
        "colab": {
          "base_uri": "https://localhost:8080/"
        },
        "id": "xwn97B52PiXN",
        "outputId": "21ea635f-0f31-4e16-afdb-191ed7c20b8a"
      },
      "execution_count": 111,
      "outputs": [
        {
          "output_type": "stream",
          "name": "stdout",
          "text": [
            "root\n",
            " |-- inpX: integer (nullable = true)\n",
            " |-- inpY: integer (nullable = true)\n",
            " |-- cid: array (nullable = true)\n",
            " |    |-- element: string (containsNull = true)\n",
            " |-- Dataset: string (nullable = false)\n",
            "\n",
            "+----+----+--------+-------+\n",
            "|inpX|inpY|     cid|Dataset|\n",
            "+----+----+--------+-------+\n",
            "|  97|  82|[19, 16]| df_inp|\n",
            "|  63|  94|[12, 18]| df_inp|\n",
            "|  70|   4| [13, 0]| df_inp|\n",
            "|  70|   4| [14, 0]| df_inp|\n",
            "|  42|  62| [8, 12]| df_inp|\n",
            "|   5|  50|  [0, 9]| df_inp|\n",
            "|   5|  50| [0, 10]| df_inp|\n",
            "|   5|  50|  [1, 9]| df_inp|\n",
            "|  83|  48| [16, 9]| df_inp|\n",
            "| 100|  68|[20, 13]| df_inp|\n",
            "|  21|  17|  [4, 3]| df_inp|\n",
            "|  21|  17|  [3, 3]| df_inp|\n",
            "|  61|  21| [12, 4]| df_inp|\n",
            "|  61|  21| [11, 3]| df_inp|\n",
            "|  61|  21| [11, 4]| df_inp|\n",
            "|  61|  21| [12, 3]| df_inp|\n",
            "|  89|  39| [17, 7]| df_inp|\n",
            "|  50|  83| [9, 16]| df_inp|\n",
            "|  50|  83|[10, 16]| df_inp|\n",
            "|  54|  88|[10, 17]| df_inp|\n",
            "+----+----+--------+-------+\n",
            "only showing top 20 rows\n",
            "\n"
          ]
        }
      ]
    },
    {
      "cell_type": "markdown",
      "source": [
        "Create DataFrame with each point and the cell_id that is contained (about df_train)"
      ],
      "metadata": {
        "id": "OiDT8vStVA1h"
      }
    },
    {
      "cell_type": "code",
      "source": [
        "df_train_splitted = df_train_splitted.withColumn(\"Dataset\", F.lit(\"df_train\"))\n",
        "\n",
        "df_train_splitted.printSchema()\n",
        "df_train_splitted.show()"
      ],
      "metadata": {
        "colab": {
          "base_uri": "https://localhost:8080/"
        },
        "id": "I8kAVixtPiZn",
        "outputId": "fc6302c9-edd2-4631-ee26-184398e03196"
      },
      "execution_count": 112,
      "outputs": [
        {
          "output_type": "stream",
          "name": "stdout",
          "text": [
            "root\n",
            " |-- trainX: integer (nullable = true)\n",
            " |-- trainY: integer (nullable = true)\n",
            " |-- cid: struct (nullable = false)\n",
            " |    |-- col1: integer (nullable = true)\n",
            " |    |-- col2: integer (nullable = true)\n",
            " |-- Dataset: string (nullable = false)\n",
            "\n",
            "+------+------+--------+--------+\n",
            "|trainX|trainY|     cid| Dataset|\n",
            "+------+------+--------+--------+\n",
            "|    42|    43|  {8, 8}|df_train|\n",
            "|    75|    51|{14, 10}|df_train|\n",
            "|     5|    41|  {0, 8}|df_train|\n",
            "|    44|    49|  {8, 9}|df_train|\n",
            "|    54|    54|{10, 10}|df_train|\n",
            "|    70|    53|{13, 10}|df_train|\n",
            "|    29|    64| {5, 12}|df_train|\n",
            "|    67|    23| {13, 4}|df_train|\n",
            "|    69|    78|{13, 15}|df_train|\n",
            "|    24|    60| {4, 11}|df_train|\n",
            "|    35|    62| {6, 12}|df_train|\n",
            "|    14|    18|  {2, 3}|df_train|\n",
            "|    47|     6|  {9, 1}|df_train|\n",
            "|    36|     9|  {7, 1}|df_train|\n",
            "|    20|    37|  {3, 7}|df_train|\n",
            "|     9|     1|  {1, 0}|df_train|\n",
            "|    26|    42|  {5, 8}|df_train|\n",
            "|    37|    72| {7, 14}|df_train|\n",
            "|    21|    61| {4, 12}|df_train|\n",
            "|     3|     2|  {0, 0}|df_train|\n",
            "+------+------+--------+--------+\n",
            "only showing top 20 rows\n",
            "\n"
          ]
        }
      ]
    },
    {
      "cell_type": "code",
      "source": [
        "# also change cid data type to array for train dataframe\n",
        "df_train_splitted = df_train_splitted.withColumn(\"cid\", F.array(df_train_splitted[\"cid\"].getField(\"col1\"), df_train_splitted[\"cid\"].getField(\"col2\")))\n",
        "df_train_splitted.show()"
      ],
      "metadata": {
        "colab": {
          "base_uri": "https://localhost:8080/"
        },
        "id": "P5rowUF4Pib3",
        "outputId": "ccbf2111-fb1e-451f-dc7b-e4f11a2fbc0c"
      },
      "execution_count": 113,
      "outputs": [
        {
          "output_type": "stream",
          "name": "stdout",
          "text": [
            "+------+------+--------+--------+\n",
            "|trainX|trainY|     cid| Dataset|\n",
            "+------+------+--------+--------+\n",
            "|    42|    43|  [8, 8]|df_train|\n",
            "|    75|    51|[14, 10]|df_train|\n",
            "|     5|    41|  [0, 8]|df_train|\n",
            "|    44|    49|  [8, 9]|df_train|\n",
            "|    54|    54|[10, 10]|df_train|\n",
            "|    70|    53|[13, 10]|df_train|\n",
            "|    29|    64| [5, 12]|df_train|\n",
            "|    67|    23| [13, 4]|df_train|\n",
            "|    69|    78|[13, 15]|df_train|\n",
            "|    24|    60| [4, 11]|df_train|\n",
            "|    35|    62| [6, 12]|df_train|\n",
            "|    14|    18|  [2, 3]|df_train|\n",
            "|    47|     6|  [9, 1]|df_train|\n",
            "|    36|     9|  [7, 1]|df_train|\n",
            "|    20|    37|  [3, 7]|df_train|\n",
            "|     9|     1|  [1, 0]|df_train|\n",
            "|    26|    42|  [5, 8]|df_train|\n",
            "|    37|    72| [7, 14]|df_train|\n",
            "|    21|    61| [4, 12]|df_train|\n",
            "|     3|     2|  [0, 0]|df_train|\n",
            "+------+------+--------+--------+\n",
            "only showing top 20 rows\n",
            "\n"
          ]
        }
      ]
    },
    {
      "cell_type": "markdown",
      "source": [
        "Last create one dataframe with the combined data from the two datasets"
      ],
      "metadata": {
        "id": "RnRaQ8jdXBzb"
      }
    },
    {
      "cell_type": "code",
      "source": [
        "df_combined_with_cells = final_df_inp.union(df_train_splitted)\n",
        "df_combined_with_cells.show(truncate=False)"
      ],
      "metadata": {
        "colab": {
          "base_uri": "https://localhost:8080/"
        },
        "id": "_QgRXOnNXBYT",
        "outputId": "03e9563b-465e-4942-e0c7-d8edaceaa9bf"
      },
      "execution_count": 115,
      "outputs": [
        {
          "output_type": "stream",
          "name": "stdout",
          "text": [
            "+----+----+--------+-------+\n",
            "|inpX|inpY|cid     |Dataset|\n",
            "+----+----+--------+-------+\n",
            "|97  |82  |[19, 16]|df_inp |\n",
            "|63  |94  |[12, 18]|df_inp |\n",
            "|70  |4   |[13, 0] |df_inp |\n",
            "|70  |4   |[14, 0] |df_inp |\n",
            "|42  |62  |[8, 12] |df_inp |\n",
            "|5   |50  |[0, 9]  |df_inp |\n",
            "|5   |50  |[0, 10] |df_inp |\n",
            "|5   |50  |[1, 9]  |df_inp |\n",
            "|83  |48  |[16, 9] |df_inp |\n",
            "|100 |68  |[20, 13]|df_inp |\n",
            "|21  |17  |[4, 3]  |df_inp |\n",
            "|21  |17  |[3, 3]  |df_inp |\n",
            "|61  |21  |[12, 4] |df_inp |\n",
            "|61  |21  |[11, 3] |df_inp |\n",
            "|61  |21  |[11, 4] |df_inp |\n",
            "|61  |21  |[12, 3] |df_inp |\n",
            "|89  |39  |[17, 7] |df_inp |\n",
            "|50  |83  |[9, 16] |df_inp |\n",
            "|50  |83  |[10, 16]|df_inp |\n",
            "|54  |88  |[10, 17]|df_inp |\n",
            "+----+----+--------+-------+\n",
            "only showing top 20 rows\n",
            "\n"
          ]
        }
      ]
    },
    {
      "cell_type": "markdown",
      "source": [
        "Count the number of points that each cell_id has"
      ],
      "metadata": {
        "id": "J-GQgd37XzkS"
      }
    },
    {
      "cell_type": "code",
      "source": [
        "df_combined_cells_cnt = df_combined_with_cells.groupBy(\"cid\").count().orderBy(\"count\", ascending=True)\n",
        "\n",
        "df_combined_cells_cnt.show()\n",
        "df_combined_cells_cnt.count()"
      ],
      "metadata": {
        "colab": {
          "base_uri": "https://localhost:8080/"
        },
        "id": "_bf9eapZPieR",
        "outputId": "fbbc28ae-15df-4f40-f643-4901f122c362"
      },
      "execution_count": 118,
      "outputs": [
        {
          "output_type": "stream",
          "name": "stdout",
          "text": [
            "+--------+-----+\n",
            "|     cid|count|\n",
            "+--------+-----+\n",
            "| [9, 10]|    1|\n",
            "| [14, 0]|    1|\n",
            "|  [5, 2]|    1|\n",
            "| [7, 15]|    1|\n",
            "| [3, 10]|    1|\n",
            "| [12, 9]|    1|\n",
            "|[18, 18]|    1|\n",
            "|[16, 19]|    1|\n",
            "| [19, 8]|    1|\n",
            "| [4, 16]|    1|\n",
            "|  [5, 1]|    1|\n",
            "|[15, 10]|    1|\n",
            "|  [2, 8]|    1|\n",
            "|  [3, 3]|    1|\n",
            "|[10, 12]|    1|\n",
            "| [16, 5]|    1|\n",
            "| [5, 10]|    1|\n",
            "| [19, 4]|    1|\n",
            "|[19, 16]|    1|\n",
            "| [6, 17]|    1|\n",
            "+--------+-----+\n",
            "only showing top 20 rows\n",
            "\n"
          ]
        },
        {
          "output_type": "execute_result",
          "data": {
            "text/plain": [
              "191"
            ]
          },
          "metadata": {},
          "execution_count": 118
        }
      ]
    },
    {
      "cell_type": "markdown",
      "source": [
        "Partition all the points into 16 Partitions with the statement that the points with a specific \"cell_id\" are in the same partition"
      ],
      "metadata": {
        "id": "v6ZBknjFYSvk"
      }
    },
    {
      "cell_type": "code",
      "source": [
        "df_partitioned = df_combined_with_cells.repartition(1, 'cid')\n",
        "df_partitioned.show()"
      ],
      "metadata": {
        "id": "5NzF96wcPigu",
        "colab": {
          "base_uri": "https://localhost:8080/"
        },
        "outputId": "b62a075a-de21-478f-b9ec-9954504705a8"
      },
      "execution_count": 121,
      "outputs": [
        {
          "output_type": "stream",
          "name": "stdout",
          "text": [
            "+----+----+--------+-------+\n",
            "|inpX|inpY|     cid|Dataset|\n",
            "+----+----+--------+-------+\n",
            "|  97|  82|[19, 16]| df_inp|\n",
            "|  63|  94|[12, 18]| df_inp|\n",
            "|  70|   4| [13, 0]| df_inp|\n",
            "|  70|   4| [14, 0]| df_inp|\n",
            "|  42|  62| [8, 12]| df_inp|\n",
            "|   5|  50|  [0, 9]| df_inp|\n",
            "|   5|  50| [0, 10]| df_inp|\n",
            "|   5|  50|  [1, 9]| df_inp|\n",
            "|  83|  48| [16, 9]| df_inp|\n",
            "| 100|  68|[20, 13]| df_inp|\n",
            "|  21|  17|  [4, 3]| df_inp|\n",
            "|  21|  17|  [3, 3]| df_inp|\n",
            "|  61|  21| [12, 4]| df_inp|\n",
            "|  61|  21| [11, 3]| df_inp|\n",
            "|  61|  21| [11, 4]| df_inp|\n",
            "|  61|  21| [12, 3]| df_inp|\n",
            "|  89|  39| [17, 7]| df_inp|\n",
            "|  50|  83| [9, 16]| df_inp|\n",
            "|  50|  83|[10, 16]| df_inp|\n",
            "|  54|  88|[10, 17]| df_inp|\n",
            "+----+----+--------+-------+\n",
            "only showing top 20 rows\n",
            "\n"
          ]
        }
      ]
    },
    {
      "cell_type": "code",
      "source": [
        "df_partitioned.count()\n",
        "df_partitioned.rdd.getNumPartitions()"
      ],
      "metadata": {
        "id": "gJLm-p42Pii7",
        "colab": {
          "base_uri": "https://localhost:8080/"
        },
        "outputId": "c8ec3cb2-685d-492d-bdbd-727f174ae661"
      },
      "execution_count": 122,
      "outputs": [
        {
          "output_type": "execute_result",
          "data": {
            "text/plain": [
              "1"
            ]
          },
          "metadata": {},
          "execution_count": 122
        }
      ]
    },
    {
      "cell_type": "code",
      "source": [
        "df_partitioned\\\n",
        "    .withColumn(\"partitionId\", spark_partition_id())\\\n",
        "    .groupBy(\"partitionId\")\\\n",
        "    .count()\\\n",
        "    .orderBy(asc(\"count\"))\\\n",
        "    .show()"
      ],
      "metadata": {
        "id": "hPVHh0EGPilY",
        "colab": {
          "base_uri": "https://localhost:8080/"
        },
        "outputId": "3c57ab16-2a3e-490e-e932-2a30c78aa8fb"
      },
      "execution_count": 123,
      "outputs": [
        {
          "output_type": "stream",
          "name": "stdout",
          "text": [
            "+-----------+-----+\n",
            "|partitionId|count|\n",
            "+-----------+-----+\n",
            "|          0|  267|\n",
            "+-----------+-----+\n",
            "\n"
          ]
        }
      ]
    },
    {
      "cell_type": "code",
      "source": [
        "df_partitioned.show()"
      ],
      "metadata": {
        "colab": {
          "base_uri": "https://localhost:8080/"
        },
        "id": "wdyqXYfKZ7YP",
        "outputId": "05197bb6-e7c4-41a6-da6b-ead1216c4b4d"
      },
      "execution_count": 125,
      "outputs": [
        {
          "output_type": "stream",
          "name": "stdout",
          "text": [
            "+----+----+--------+-------+\n",
            "|inpX|inpY|     cid|Dataset|\n",
            "+----+----+--------+-------+\n",
            "|  97|  82|[19, 16]| df_inp|\n",
            "|  63|  94|[12, 18]| df_inp|\n",
            "|  70|   4| [13, 0]| df_inp|\n",
            "|  70|   4| [14, 0]| df_inp|\n",
            "|  42|  62| [8, 12]| df_inp|\n",
            "|   5|  50|  [0, 9]| df_inp|\n",
            "|   5|  50| [0, 10]| df_inp|\n",
            "|   5|  50|  [1, 9]| df_inp|\n",
            "|  83|  48| [16, 9]| df_inp|\n",
            "| 100|  68|[20, 13]| df_inp|\n",
            "|  21|  17|  [4, 3]| df_inp|\n",
            "|  21|  17|  [3, 3]| df_inp|\n",
            "|  61|  21| [12, 4]| df_inp|\n",
            "|  61|  21| [11, 3]| df_inp|\n",
            "|  61|  21| [11, 4]| df_inp|\n",
            "|  61|  21| [12, 3]| df_inp|\n",
            "|  89|  39| [17, 7]| df_inp|\n",
            "|  50|  83| [9, 16]| df_inp|\n",
            "|  50|  83|[10, 16]| df_inp|\n",
            "|  54|  88|[10, 17]| df_inp|\n",
            "+----+----+--------+-------+\n",
            "only showing top 20 rows\n",
            "\n"
          ]
        }
      ]
    },
    {
      "cell_type": "markdown",
      "source": [
        "####Query\n",
        "#### Join each point of df_inp with the points of df_train that are in the same cell"
      ],
      "metadata": {
        "id": "qIJ5DVOVYzil"
      }
    },
    {
      "cell_type": "code",
      "source": [
        "# keep the time that query is about to start \n",
        "t4 = int(round(time.time() * 1000))"
      ],
      "metadata": {
        "id": "RiBYN08jc0oA"
      },
      "execution_count": 139,
      "outputs": []
    },
    {
      "cell_type": "code",
      "source": [
        "# Join every point of df_inp and df_train that are in the same cell\n",
        "df_partitioned_joined = df_partitioned.filter(df_partitioned['dataset'] == 'df_inp').select(\n",
        "                                                                                                       df_partitioned[\"inpY\"].alias(\"df_inp_Y\"),\n",
        "                                                                                                       df_partitioned[\"inpX\"].alias(\"df_inp_X\"),\n",
        "                                                                                                       df_partitioned[\"cid\"])\\\n",
        "                             .join(df_partitioned.filter(df_partitioned['dataset'] == 'df_train').select(\n",
        "                                                                                                       df_partitioned[\"inpY\"].alias(\"df_train_Y\"),\n",
        "                                                                                                       df_partitioned[\"inpX\"].alias(\"df_train_X\"),\n",
        "                                                                                                       df_partitioned[\"cid\"]),\n",
        "                                                                                                       ['cid'])\n",
        "df_partitioned_joined.show()"
      ],
      "metadata": {
        "id": "mqjSsWJYPin_",
        "colab": {
          "base_uri": "https://localhost:8080/"
        },
        "outputId": "27415a9d-f791-46c9-c845-4dac9fa6dff3"
      },
      "execution_count": 140,
      "outputs": [
        {
          "output_type": "stream",
          "name": "stdout",
          "text": [
            "+--------+--------+--------+----------+----------+\n",
            "|     cid|df_inp_Y|df_inp_X|df_train_Y|df_train_X|\n",
            "+--------+--------+--------+----------+----------+\n",
            "| [12, 4]|      21|      61|        24|        65|\n",
            "| [12, 3]|      21|      61|        20|        64|\n",
            "|[13, 10]|      53|      67|        53|        70|\n",
            "|[12, 15]|      76|      64|        76|        62|\n",
            "|  [6, 6]|      32|      32|        31|        34|\n",
            "|  [8, 0]|       2|      44|         4|        45|\n",
            "| [13, 2]|      13|      68|        15|        66|\n",
            "|  [2, 3]|      16|      14|        18|        14|\n",
            "| [11, 8]|      45|      60|        44|        59|\n",
            "| [11, 9]|      45|      60|        46|        58|\n",
            "|  [6, 6]|      33|      31|        31|        34|\n",
            "|[10, 10]|      51|      51|        54|        54|\n",
            "| [10, 9]|      51|      51|        48|        51|\n",
            "| [9, 12]|      63|      45|        65|        49|\n",
            "|  [3, 7]|      38|      17|        37|        20|\n",
            "|  [8, 6]|      34|      41|        32|        41|\n",
            "|  [6, 1]|       8|      33|         7|        33|\n",
            "|  [6, 1]|       8|      33|        10|        32|\n",
            "| [15, 5]|      30|      81|        26|        77|\n",
            "| [12, 3]|      20|      62|        20|        64|\n",
            "+--------+--------+--------+----------+----------+\n",
            "only showing top 20 rows\n",
            "\n"
          ]
        }
      ]
    },
    {
      "cell_type": "code",
      "source": [
        "t5 = int(round(time.time() * 1000))\n",
        "print(\"Query run at {} ms\".format(t5 - t4))"
      ],
      "metadata": {
        "colab": {
          "base_uri": "https://localhost:8080/"
        },
        "id": "EY6Nqbdz0tU8",
        "outputId": "30c0515f-8d92-4ea8-ba41-2eae936db68c"
      },
      "execution_count": 145,
      "outputs": [
        {
          "output_type": "stream",
          "name": "stdout",
          "text": [
            "Query run at 50045 ms\n"
          ]
        }
      ]
    },
    {
      "cell_type": "markdown",
      "source": [
        "#### Calculate the distance for each pair of points"
      ],
      "metadata": {
        "id": "DEu3RoVrafVZ"
      }
    },
    {
      "cell_type": "code",
      "source": [
        "# keep the time that calculation of distance is about to start \n",
        "t6 = int(round(time.time() * 1000))"
      ],
      "metadata": {
        "id": "RtNZnAlFdK7F"
      },
      "execution_count": 146,
      "outputs": []
    },
    {
      "cell_type": "code",
      "source": [
        "#calculate distance between points using Pythagoras' theorem\n",
        "df_partitioned_joined_with_dist = df_partitioned_joined.withColumn(\"dist\", F.sqrt((df_partitioned_joined['df_inp_y']-df_partitioned_joined['df_train_y'])** 2 + (df_partitioned_joined['df_inp_x']-df_partitioned_joined['df_train_x'])** 2))\n",
        "\n",
        "df_partitioned_joined_with_dist.show(50)\n",
        "df_partitioned_joined_with_dist.count()"
      ],
      "metadata": {
        "id": "PefL96ryPip8",
        "colab": {
          "base_uri": "https://localhost:8080/"
        },
        "outputId": "e2fea75e-46a1-49d6-eb07-6ca8267011f4"
      },
      "execution_count": 147,
      "outputs": [
        {
          "output_type": "stream",
          "name": "stdout",
          "text": [
            "+--------+--------+--------+----------+----------+------------------+\n",
            "|     cid|df_inp_Y|df_inp_X|df_train_Y|df_train_X|              dist|\n",
            "+--------+--------+--------+----------+----------+------------------+\n",
            "| [12, 4]|      21|      61|        24|        65|               5.0|\n",
            "| [12, 3]|      21|      61|        20|        64|3.1622776601683795|\n",
            "|[13, 10]|      53|      67|        53|        70|               3.0|\n",
            "|[12, 15]|      76|      64|        76|        62|               2.0|\n",
            "|  [6, 6]|      32|      32|        31|        34|  2.23606797749979|\n",
            "|  [8, 0]|       2|      44|         4|        45|  2.23606797749979|\n",
            "| [13, 2]|      13|      68|        15|        66|2.8284271247461903|\n",
            "|  [2, 3]|      16|      14|        18|        14|               2.0|\n",
            "| [11, 8]|      45|      60|        44|        59|1.4142135623730951|\n",
            "| [11, 9]|      45|      60|        46|        58|  2.23606797749979|\n",
            "|  [6, 6]|      33|      31|        31|        34| 3.605551275463989|\n",
            "|[10, 10]|      51|      51|        54|        54| 4.242640687119285|\n",
            "| [10, 9]|      51|      51|        48|        51|               3.0|\n",
            "| [9, 12]|      63|      45|        65|        49|  4.47213595499958|\n",
            "|  [3, 7]|      38|      17|        37|        20|3.1622776601683795|\n",
            "|  [8, 6]|      34|      41|        32|        41|               2.0|\n",
            "|  [6, 1]|       8|      33|         7|        33|               1.0|\n",
            "|  [6, 1]|       8|      33|        10|        32|  2.23606797749979|\n",
            "| [15, 5]|      30|      81|        26|        77| 5.656854249492381|\n",
            "| [12, 3]|      20|      62|        20|        64|               2.0|\n",
            "| [12, 4]|      20|      62|        24|        65|               5.0|\n",
            "| [3, 12]|      66|      20|        63|        17| 4.242640687119285|\n",
            "| [12, 2]|      10|      65|        14|        63|  4.47213595499958|\n",
            "| [13, 2]|      10|      65|        15|        66|5.0990195135927845|\n",
            "|  [0, 2]|      12|       4|        12|         2|               2.0|\n",
            "| [15, 7]|      36|      75|        39|        79|               5.0|\n",
            "|  [8, 6]|      35|      40|        32|        41|3.1622776601683795|\n",
            "|  [8, 8]|      43|      46|        43|        42|               4.0|\n",
            "|  [7, 3]|      19|      37|        17|        39|2.8284271247461903|\n",
            "|  [7, 3]|      19|      37|        16|        40| 4.242640687119285|\n",
            "| [0, 13]|      69|       2|        67|         1|  2.23606797749979|\n",
            "|[15, 15]|      75|      79|        77|        80|  2.23606797749979|\n",
            "|  [3, 8]|      46|      19|        45|        16|3.1622776601683795|\n",
            "|  [1, 3]|      18|       6|        19|        10| 4.123105625617661|\n",
            "| [9, 11]|      57|      47|        58|        50|3.1622776601683795|\n",
            "| [9, 11]|      57|      47|        56|        48|1.4142135623730951|\n",
            "| [2, 14]|      71|      10|        71|        12|               2.0|\n",
            "| [6, 14]|      72|      34|        75|        31| 4.242640687119285|\n",
            "| [2, 11]|      55|      16|        57|        11| 5.385164807134504|\n",
            "|  [4, 2]|      15|      24|        11|        22|  4.47213595499958|\n",
            "|[15, 15]|      79|      76|        77|        80|  4.47213595499958|\n",
            "|[14, 15]|      79|      76|        79|        73|               3.0|\n",
            "| [4, 11]|      59|      26|        60|        24|  2.23606797749979|\n",
            "| [13, 2]|      14|      71|        15|        66|5.0990195135927845|\n",
            "+--------+--------+--------+----------+----------+------------------+\n",
            "\n"
          ]
        },
        {
          "output_type": "execute_result",
          "data": {
            "text/plain": [
              "44"
            ]
          },
          "metadata": {},
          "execution_count": 147
        }
      ]
    },
    {
      "cell_type": "code",
      "source": [
        "t7 = int(round(time.time() * 1000))\n",
        "print(\"Calculation for distance run at {} ms\".format(t7 - t6))"
      ],
      "metadata": {
        "colab": {
          "base_uri": "https://localhost:8080/"
        },
        "id": "JPIMVFVOdSth",
        "outputId": "d1aaa840-4f96-47f8-a8ee-3128424dcd4d"
      },
      "execution_count": 148,
      "outputs": [
        {
          "output_type": "stream",
          "name": "stdout",
          "text": [
            "Calculation for distance run at 36941 ms\n"
          ]
        }
      ]
    },
    {
      "cell_type": "markdown",
      "source": [
        "##Final create a Df to keep only the points that satisfy the distance given"
      ],
      "metadata": {
        "id": "Zmb1rfqhbcvV"
      }
    },
    {
      "cell_type": "code",
      "source": [
        "reduced_df = df_partitioned_joined_with_dist.filter(F.col(\"dist\") <= range_val)\n",
        "reduced_df.show()"
      ],
      "metadata": {
        "colab": {
          "base_uri": "https://localhost:8080/"
        },
        "id": "mK4gpKxFbReR",
        "outputId": "ea2c2184-655c-4fb7-bff0-523e680c0c3f"
      },
      "execution_count": 149,
      "outputs": [
        {
          "output_type": "stream",
          "name": "stdout",
          "text": [
            "+------+--------+--------+----------+----------+----+\n",
            "|   cid|df_inp_Y|df_inp_X|df_train_Y|df_train_X|dist|\n",
            "+------+--------+--------+----------+----------+----+\n",
            "|[6, 1]|       8|      33|         7|        33| 1.0|\n",
            "+------+--------+--------+----------+----------+----+\n",
            "\n"
          ]
        }
      ]
    },
    {
      "cell_type": "code",
      "source": [
        "reduced_df.count()"
      ],
      "metadata": {
        "id": "pFVG89K6Pisx",
        "colab": {
          "base_uri": "https://localhost:8080/"
        },
        "outputId": "6006dcfb-1cd8-4c43-9d3d-7f6bacc55892"
      },
      "execution_count": 150,
      "outputs": [
        {
          "output_type": "execute_result",
          "data": {
            "text/plain": [
              "1"
            ]
          },
          "metadata": {},
          "execution_count": 150
        }
      ]
    },
    {
      "cell_type": "code",
      "source": [
        "# the previous were just to test that spark was ok set up\n",
        "spark.stop()"
      ],
      "metadata": {
        "id": "j0PUG8qNyrXv"
      },
      "execution_count": 151,
      "outputs": []
    }
  ]
}