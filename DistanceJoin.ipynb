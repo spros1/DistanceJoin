{
  "nbformat": 4,
  "nbformat_minor": 0,
  "metadata": {
    "colab": {
      "name": "DistanceJoin.ipynb",
      "provenance": [],
      "collapsed_sections": [],
      "authorship_tag": "ABX9TyPS3ylo4FXRvQ9f4OjhBdZr",
      "include_colab_link": true
    },
    "kernelspec": {
      "name": "python3",
      "display_name": "Python 3"
    },
    "language_info": {
      "name": "python"
    }
  },
  "cells": [
    {
      "cell_type": "markdown",
      "metadata": {
        "id": "view-in-github",
        "colab_type": "text"
      },
      "source": [
        "<a href=\"https://colab.research.google.com/github/spros1/DistanceJoin/blob/main/DistanceJoin.ipynb\" target=\"_parent\"><img src=\"https://colab.research.google.com/assets/colab-badge.svg\" alt=\"Open In Colab\"/></a>"
      ]
    },
    {
      "cell_type": "markdown",
      "source": [
        "For two sets given A and B ( with values (ID,X,Y) ) : <br>\n",
        "Find the pairs (a,b), where a in Α and b in Β, \n",
        "to wich it applies : d(a,b) ≤ c, where c parameter given from the user "
      ],
      "metadata": {
        "id": "cEXxpskFv5gj"
      }
    },
    {
      "cell_type": "code",
      "execution_count": 1,
      "metadata": {
        "id": "xBle1FUSkXMP"
      },
      "outputs": [],
      "source": [
        "# importing the required module\n",
        "import matplotlib.pyplot as plt\n",
        "import numpy as np"
      ]
    },
    {
      "cell_type": "markdown",
      "source": [
        "###Create two lists of points for initial tests\n",
        "### At next phases this will change to csvs"
      ],
      "metadata": {
        "id": "Grz8kKWyroOA"
      }
    },
    {
      "cell_type": "code",
      "source": [
        "marks = [['I',6,3],['I',2,2],['I',1,2],['I',7,9], ['I',4,5]]\n",
        "train = [['T', 5, 5], ['T',9,7]]\n",
        "\n",
        "print(marks)\n",
        "print(train)"
      ],
      "metadata": {
        "colab": {
          "base_uri": "https://localhost:8080/"
        },
        "id": "_eHHJq9Vl1SL",
        "outputId": "5f7e1769-9fdb-4e2e-feea-18a7be51b269"
      },
      "execution_count": 2,
      "outputs": [
        {
          "output_type": "stream",
          "name": "stdout",
          "text": [
            "[['I', 6, 3], ['I', 2, 2], ['I', 1, 2], ['I', 7, 9], ['I', 4, 5]]\n",
            "[['T', 5, 5], ['T', 9, 7]]\n"
          ]
        }
      ]
    },
    {
      "cell_type": "markdown",
      "source": [
        "### Plot the points ( marks -> o , train -> x )"
      ],
      "metadata": {
        "id": "7Hve7t1Qrxc4"
      }
    },
    {
      "cell_type": "code",
      "source": [
        "for a in range(len(marks)):\n",
        "  mx = marks[a][1]\n",
        "  my = marks[a][2]\n",
        "  plt.scatter(mx, my, marker='x', color = 'brown')\n",
        "\n",
        "for b in range(len(train)):\n",
        "  tx = train[b][1]\n",
        "  ty = train[b][2]\n",
        "  plt.scatter(tx, ty, marker='p', color = 'blue')\n",
        "\n",
        "plt.show()"
      ],
      "metadata": {
        "id": "08TyXRTw8fZM",
        "outputId": "ff7e107c-fd2a-4472-de40-4f7dcdd76d90",
        "colab": {
          "base_uri": "https://localhost:8080/",
          "height": 265
        }
      },
      "execution_count": 3,
      "outputs": [
        {
          "output_type": "display_data",
          "data": {
            "text/plain": [
              "<Figure size 432x288 with 1 Axes>"
            ],
            "image/png": "[encoded data removed]"
          },
          "metadata": {
            "needs_background": "light"
          }
        }
      ]
    },
    {
      "cell_type": "markdown",
      "source": [
        "Get the value for range from user and "
      ],
      "metadata": {
        "id": "LR-xUX4rl910"
      }
    },
    {
      "cell_type": "code",
      "source": [
        "range_val = 0\n",
        "try:\n",
        "  range_val = int(input(\"Enter your value for range : \"))\n",
        "except ValueError:\n",
        "    print(\"This is not a number\")    "
      ],
      "metadata": {
        "colab": {
          "base_uri": "https://localhost:8080/"
        },
        "id": "CilfUq7_ltfq",
        "outputId": "72e959ed-7d66-4ad3-d71d-804b5c9ca904"
      },
      "execution_count": 4,
      "outputs": [
        {
          "name": "stdout",
          "output_type": "stream",
          "text": [
            "Enter your value for range : 5\n"
          ]
        }
      ]
    },
    {
      "cell_type": "markdown",
      "source": [
        "#### Create a function that calculates the distance between two points"
      ],
      "metadata": {
        "id": "qsBYt5yO0wpC"
      }
    },
    {
      "cell_type": "code",
      "source": [
        "# Function to calculate distance between points using Pythagoras' theorem\n",
        "import math\n",
        "def distance(i1 , t1 , i2 , t2):\n",
        " \n",
        "    return math.sqrt(math.pow(i2 - i1, 2) + math.pow(t2 - t1, 2) * 1.0)"
      ],
      "metadata": {
        "id": "H-3q6_cq7QJd"
      },
      "execution_count": 5,
      "outputs": []
    },
    {
      "cell_type": "code",
      "source": [
        "# function to call in order to calculate the points of train that are in range of points of input\n",
        "\n",
        "def check_in_range(i, t, r):\n",
        "\n",
        "  for a in range(len(i)):\n",
        "   for b in range(len(t)):\n",
        "    print(i[a])\n",
        "    print(t[b])\n",
        "    dist = distance(i[a][2] , i[a][1], t[b][2] , t[b][1])\n",
        "\n",
        "    if dist <= range_val :\n",
        "     print(\"Points in range :\", dist, \"<=\", r)\n",
        "    else : \n",
        "     print(\"Points out of range :\", dist, \">\", r)\n",
        "    \n",
        "    print(\"----------------------\")"
      ],
      "metadata": {
        "id": "IPy2LNOO7VXn"
      },
      "execution_count": 6,
      "outputs": []
    },
    {
      "cell_type": "markdown",
      "source": [
        "### Now call the functions in order to get the requested results"
      ],
      "metadata": {
        "id": "3GrbqXHI6w2h"
      }
    },
    {
      "cell_type": "code",
      "source": [
        "check_in_range(marks, train, range_val)"
      ],
      "metadata": {
        "id": "lL-VlBsG65Uk",
        "outputId": "4c2136d7-93f2-4662-93ab-94eb7b31dc18",
        "colab": {
          "base_uri": "https://localhost:8080/"
        }
      },
      "execution_count": 7,
      "outputs": [
        {
          "output_type": "stream",
          "name": "stdout",
          "text": [
            "['I', 6, 3]\n",
            "['T', 5, 5]\n",
            "Points in range : 2.23606797749979 <= 5\n",
            "----------------------\n",
            "['I', 6, 3]\n",
            "['T', 9, 7]\n",
            "Points in range : 5.0 <= 5\n",
            "----------------------\n",
            "['I', 2, 2]\n",
            "['T', 5, 5]\n",
            "Points in range : 4.242640687119285 <= 5\n",
            "----------------------\n",
            "['I', 2, 2]\n",
            "['T', 9, 7]\n",
            "Points out of range : 8.602325267042627 > 5\n",
            "----------------------\n",
            "['I', 1, 2]\n",
            "['T', 5, 5]\n",
            "Points in range : 5.0 <= 5\n",
            "----------------------\n",
            "['I', 1, 2]\n",
            "['T', 9, 7]\n",
            "Points out of range : 9.433981132056603 > 5\n",
            "----------------------\n",
            "['I', 7, 9]\n",
            "['T', 5, 5]\n",
            "Points in range : 4.47213595499958 <= 5\n",
            "----------------------\n",
            "['I', 7, 9]\n",
            "['T', 9, 7]\n",
            "Points in range : 2.8284271247461903 <= 5\n",
            "----------------------\n",
            "['I', 4, 5]\n",
            "['T', 5, 5]\n",
            "Points in range : 1.0 <= 5\n",
            "----------------------\n",
            "['I', 4, 5]\n",
            "['T', 9, 7]\n",
            "Points out of range : 5.385164807134504 > 5\n",
            "----------------------\n"
          ]
        }
      ]
    }
  ]
}